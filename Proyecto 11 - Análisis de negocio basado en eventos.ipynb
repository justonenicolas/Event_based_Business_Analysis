{
 "cells": [
  {
   "cell_type": "markdown",
   "metadata": {},
   "source": [
    "# Descripción del Proyecto\n",
    "\n",
    "## Información General\n",
    "Etapa de familiarización con los datos y los resultados de la prueba\n",
    "## Preparación y enriquecimiento de datos\n",
    "Etapa de adición de columnas, modificación de formatos y demás elementos que componen el análisis exploratorio de los datos\n",
    "## Estudio y comprobación de datos\n",
    "Etapa dedicada a la revisión de distribución de datos y eliminación de valores atípicos\n",
    "## Estudio del embudo de eventos\n",
    "Etapa enfocada en el cálculo de métricas de embudos separadas por eventos y grupos experimentales\n",
    "## Conclusiones Generales\n",
    "\n",
    "\n",
    "# Descripción de los datos\n",
    "- **Tabla Logs** (Tabla con los datos de ocurrencia de eventos):\n",
    "\n",
    "    - **EventName**: nombre del evento\n",
    "    \n",
    "    - **DeviceIDHash**: identificador de usuario unívoco\n",
    "    \n",
    "    - **EventTimestamp**: hora del evento\n",
    "    \n",
    "    - **ExpId**: número de experimento. 246 y 247 son los grupos de control, y 248 es el grupo de prueba\n",
    "\n",
    "-------------"
   ]
  },
  {
   "cell_type": "markdown",
   "metadata": {},
   "source": [
    "# 1. Información General"
   ]
  },
  {
   "cell_type": "code",
   "execution_count": 1,
   "metadata": {},
   "outputs": [],
   "source": [
    "# Importación de librerias\n",
    "import pandas as pd\n",
    "import matplotlib.pyplot as plt\n",
    "import scipy.stats as st\n",
    "import numpy as np\n",
    "import math\n",
    "import datetime "
   ]
  },
  {
   "cell_type": "code",
   "execution_count": null,
   "metadata": {},
   "outputs": [
    {
     "name": "stdout",
     "output_type": "stream",
     "text": [
      "<class 'pandas.core.frame.DataFrame'>\n",
      "RangeIndex: 244126 entries, 0 to 244125\n",
      "Data columns (total 4 columns):\n",
      " #   Column          Non-Null Count   Dtype \n",
      "---  ------          --------------   ----- \n",
      " 0   EventName       244126 non-null  object\n",
      " 1   DeviceIDHash    244126 non-null  int64 \n",
      " 2   EventTimestamp  244126 non-null  int64 \n",
      " 3   ExpId           244126 non-null  int64 \n",
      "dtypes: int64(3), object(1)\n",
      "memory usage: 7.5+ MB\n",
      "None\n"
     ]
    },
    {
     "data": {
      "text/html": [
       "<div>\n",
       "<style scoped>\n",
       "    .dataframe tbody tr th:only-of-type {\n",
       "        vertical-align: middle;\n",
       "    }\n",
       "\n",
       "    .dataframe tbody tr th {\n",
       "        vertical-align: top;\n",
       "    }\n",
       "\n",
       "    .dataframe thead th {\n",
       "        text-align: right;\n",
       "    }\n",
       "</style>\n",
       "<table border=\"1\" class=\"dataframe\">\n",
       "  <thead>\n",
       "    <tr style=\"text-align: right;\">\n",
       "      <th></th>\n",
       "      <th>EventName</th>\n",
       "      <th>DeviceIDHash</th>\n",
       "      <th>EventTimestamp</th>\n",
       "      <th>ExpId</th>\n",
       "    </tr>\n",
       "  </thead>\n",
       "  <tbody>\n",
       "    <tr>\n",
       "      <th>0</th>\n",
       "      <td>MainScreenAppear</td>\n",
       "      <td>4575588528974610257</td>\n",
       "      <td>1564029816</td>\n",
       "      <td>246</td>\n",
       "    </tr>\n",
       "    <tr>\n",
       "      <th>1</th>\n",
       "      <td>MainScreenAppear</td>\n",
       "      <td>7416695313311560658</td>\n",
       "      <td>1564053102</td>\n",
       "      <td>246</td>\n",
       "    </tr>\n",
       "    <tr>\n",
       "      <th>2</th>\n",
       "      <td>PaymentScreenSuccessful</td>\n",
       "      <td>3518123091307005509</td>\n",
       "      <td>1564054127</td>\n",
       "      <td>248</td>\n",
       "    </tr>\n",
       "    <tr>\n",
       "      <th>3</th>\n",
       "      <td>CartScreenAppear</td>\n",
       "      <td>3518123091307005509</td>\n",
       "      <td>1564054127</td>\n",
       "      <td>248</td>\n",
       "    </tr>\n",
       "    <tr>\n",
       "      <th>4</th>\n",
       "      <td>PaymentScreenSuccessful</td>\n",
       "      <td>6217807653094995999</td>\n",
       "      <td>1564055322</td>\n",
       "      <td>248</td>\n",
       "    </tr>\n",
       "  </tbody>\n",
       "</table>\n",
       "</div>"
      ],
      "text/plain": [
       "                 EventName         DeviceIDHash  EventTimestamp  ExpId\n",
       "0         MainScreenAppear  4575588528974610257      1564029816    246\n",
       "1         MainScreenAppear  7416695313311560658      1564053102    246\n",
       "2  PaymentScreenSuccessful  3518123091307005509      1564054127    248\n",
       "3         CartScreenAppear  3518123091307005509      1564054127    248\n",
       "4  PaymentScreenSuccessful  6217807653094995999      1564055322    248"
      ]
     },
     "metadata": {},
     "output_type": "display_data"
    }
   ],
   "source": [
    "# Carga inicial de dataset\n",
    "df = pd.read_csv('C:\\Users\\JANUS\\OneDrive\\Escritorio\\Analisis de Datos\\Proyecto 11 - Análisis de negocio basado en eventos\\logs_exp_us.csv', sep='\\t')\n",
    "\n",
    "print(df.info())\n",
    "display(df.head())"
   ]
  },
  {
   "cell_type": "markdown",
   "metadata": {},
   "source": [
    "--------------\n",
    "# 2. Preparación y enriquecimiento de datos"
   ]
  },
  {
   "cell_type": "code",
   "execution_count": 3,
   "metadata": {},
   "outputs": [
    {
     "name": "stdout",
     "output_type": "stream",
     "text": [
      "Conteo de valores ausentes: \n",
      "event       0\n",
      "user_id     0\n",
      "event_ts    0\n",
      "group       0\n",
      "dtype: int64 \n",
      "\n",
      "Conteo incial de datos duplicados: 413\n",
      "Conteo de datos duplicados luego de limpiar el dataset: 0\n",
      "--------------------------------------------------------\n",
      "\n",
      "<class 'pandas.core.frame.DataFrame'>\n",
      "RangeIndex: 243713 entries, 0 to 243712\n",
      "Data columns (total 5 columns):\n",
      " #   Column          Non-Null Count   Dtype         \n",
      "---  ------          --------------   -----         \n",
      " 0   event           243713 non-null  object        \n",
      " 1   user_id         243713 non-null  object        \n",
      " 2   group           243713 non-null  object        \n",
      " 3   event_datetime  243713 non-null  datetime64[ns]\n",
      " 4   event_date      243713 non-null  datetime64[ns]\n",
      "dtypes: datetime64[ns](2), object(3)\n",
      "memory usage: 9.3+ MB\n",
      "None\n"
     ]
    },
    {
     "data": {
      "text/html": [
       "<div>\n",
       "<style scoped>\n",
       "    .dataframe tbody tr th:only-of-type {\n",
       "        vertical-align: middle;\n",
       "    }\n",
       "\n",
       "    .dataframe tbody tr th {\n",
       "        vertical-align: top;\n",
       "    }\n",
       "\n",
       "    .dataframe thead th {\n",
       "        text-align: right;\n",
       "    }\n",
       "</style>\n",
       "<table border=\"1\" class=\"dataframe\">\n",
       "  <thead>\n",
       "    <tr style=\"text-align: right;\">\n",
       "      <th></th>\n",
       "      <th>event</th>\n",
       "      <th>user_id</th>\n",
       "      <th>group</th>\n",
       "      <th>event_datetime</th>\n",
       "      <th>event_date</th>\n",
       "    </tr>\n",
       "  </thead>\n",
       "  <tbody>\n",
       "    <tr>\n",
       "      <th>0</th>\n",
       "      <td>MainScreenAppear</td>\n",
       "      <td>4575588528974610257</td>\n",
       "      <td>246</td>\n",
       "      <td>2019-07-25 05:00:00</td>\n",
       "      <td>2019-07-25</td>\n",
       "    </tr>\n",
       "    <tr>\n",
       "      <th>1</th>\n",
       "      <td>MainScreenAppear</td>\n",
       "      <td>7416695313311560658</td>\n",
       "      <td>246</td>\n",
       "      <td>2019-07-25 11:00:00</td>\n",
       "      <td>2019-07-25</td>\n",
       "    </tr>\n",
       "    <tr>\n",
       "      <th>2</th>\n",
       "      <td>PaymentScreenSuccessful</td>\n",
       "      <td>3518123091307005509</td>\n",
       "      <td>248</td>\n",
       "      <td>2019-07-25 11:00:00</td>\n",
       "      <td>2019-07-25</td>\n",
       "    </tr>\n",
       "    <tr>\n",
       "      <th>3</th>\n",
       "      <td>CartScreenAppear</td>\n",
       "      <td>3518123091307005509</td>\n",
       "      <td>248</td>\n",
       "      <td>2019-07-25 11:00:00</td>\n",
       "      <td>2019-07-25</td>\n",
       "    </tr>\n",
       "    <tr>\n",
       "      <th>4</th>\n",
       "      <td>PaymentScreenSuccessful</td>\n",
       "      <td>6217807653094995999</td>\n",
       "      <td>248</td>\n",
       "      <td>2019-07-25 12:00:00</td>\n",
       "      <td>2019-07-25</td>\n",
       "    </tr>\n",
       "  </tbody>\n",
       "</table>\n",
       "</div>"
      ],
      "text/plain": [
       "                     event              user_id group      event_datetime  \\\n",
       "0         MainScreenAppear  4575588528974610257   246 2019-07-25 05:00:00   \n",
       "1         MainScreenAppear  7416695313311560658   246 2019-07-25 11:00:00   \n",
       "2  PaymentScreenSuccessful  3518123091307005509   248 2019-07-25 11:00:00   \n",
       "3         CartScreenAppear  3518123091307005509   248 2019-07-25 11:00:00   \n",
       "4  PaymentScreenSuccessful  6217807653094995999   248 2019-07-25 12:00:00   \n",
       "\n",
       "  event_date  \n",
       "0 2019-07-25  \n",
       "1 2019-07-25  \n",
       "2 2019-07-25  \n",
       "3 2019-07-25  \n",
       "4 2019-07-25  "
      ]
     },
     "metadata": {},
     "output_type": "display_data"
    }
   ],
   "source": [
    "# Cambio de nombre y formato de columnas\n",
    "df.columns = df.columns.str.lower().str.strip()\n",
    "df.rename(columns={'eventname':'event','eventtimestamp':'event_ts','deviceidhash':'user_id','expid':'group'}, inplace=True)\n",
    "\n",
    "# Comprobación de valores ausentes y duplicados \n",
    "print(f'Conteo de valores ausentes: \\n{df.isna().sum()} \\n')\n",
    "print(f'Conteo incial de datos duplicados: {df.duplicated().sum()}')\n",
    "\n",
    "df.drop_duplicates(inplace=True)\n",
    "df.reset_index(drop=True, inplace=True)\n",
    "\n",
    "print(f'Conteo de datos duplicados luego de limpiar el dataset: {df.duplicated().sum()}')\n",
    "print('--------------------------------------------------------')\n",
    "\n",
    "# Correción de tipos de datos\n",
    "df[['event','user_id','group']] = df[['event','user_id','group']].astype('str')\n",
    "\n",
    "# Adición de columnas con fecha y hora\n",
    "df['event_datetime'] = df['event_ts'].map(lambda x: datetime.datetime.fromtimestamp(x).strftime('%Y-%m-%d %H:%M:%S'))\n",
    "df['event_datetime'] = pd.to_datetime(df['event_datetime']).round('60 min')\n",
    "df['event_date'] = pd.to_datetime(df['event_datetime'].dt.date, format='%Y-%m-%d')\n",
    "df.drop(columns='event_ts', inplace=True)\n",
    "\n",
    "print()\n",
    "print(df.info())\n",
    "display(df.head())"
   ]
  },
  {
   "cell_type": "markdown",
   "metadata": {},
   "source": [
    "Comentarios:\n",
    "1. No se encontraron valores ausentes en el dataset\n",
    "2. Se encontraron un total de 413 filas duplicadas, las cuales fueron excluídas para evitar errores en cálculos posteriores\n",
    "3. Las columnas de user_id y group fueron convertidas a tipo str para evitar incluirlas erróneamente en cálculos futuros\n",
    "4. Se incluyeron las columnas con la fecha y hora de evento. Adicionalmente, se suprimió la columna original (event_ts) pues se considera que no es práctico conservarla por el formato que manejaba"
   ]
  },
  {
   "cell_type": "markdown",
   "metadata": {},
   "source": [
    "-------------\n",
    "# 3. Estudio y comprobación de datos"
   ]
  },
  {
   "cell_type": "code",
   "execution_count": 4,
   "metadata": {},
   "outputs": [
    {
     "name": "stdout",
     "output_type": "stream",
     "text": [
      "Cantidad de eventos únicos: 5\n",
      "Conteo total de eventos ocurridos: 243713\n",
      "\n",
      "MainScreenAppear           119101\n",
      "OffersScreenAppear          46808\n",
      "CartScreenAppear            42668\n",
      "PaymentScreenSuccessful     34118\n",
      "Tutorial                     1018\n",
      "Name: event, dtype: int64\n"
     ]
    }
   ],
   "source": [
    "# ¿Cuántos eventos hay en los registros?\n",
    "print(f\"Cantidad de eventos únicos: {df['event'].nunique()}\")\n",
    "print(f\"Conteo total de eventos ocurridos: {df['event'].count()}\")\n",
    "print()\n",
    "print(df['event'].value_counts())"
   ]
  },
  {
   "cell_type": "code",
   "execution_count": 5,
   "metadata": {},
   "outputs": [
    {
     "name": "stdout",
     "output_type": "stream",
     "text": [
      "Cantidad de usuarios únicos: 7551\n"
     ]
    }
   ],
   "source": [
    "# ¿Cuántos usuarios hay en los registros?\n",
    "print(f\"Cantidad de usuarios únicos: {df['user_id'].nunique()}\")"
   ]
  },
  {
   "cell_type": "code",
   "execution_count": 6,
   "metadata": {},
   "outputs": [
    {
     "name": "stdout",
     "output_type": "stream",
     "text": [
      "Promedio de eventos por usuario: 20\n"
     ]
    }
   ],
   "source": [
    "# ¿Cuál es el promedio de eventos por usuario?\n",
    "grouped_events = df.groupby('user_id')['event'].count().sort_values(ascending=False)\n",
    "\n",
    "print(f\"Promedio de eventos por usuario: {math.floor(grouped_events.median())}\")"
   ]
  },
  {
   "cell_type": "code",
   "execution_count": 7,
   "metadata": {},
   "outputs": [
    {
     "name": "stdout",
     "output_type": "stream",
     "text": [
      "Fecha mínima: 2019-07-25 05:00:00\n",
      "Fecha máxima: 2019-08-07 21:00:00\n",
      "Tiempo total transcurrido en días: 13.7\n"
     ]
    },
    {
     "data": {
      "image/png": "[encoded data removed]",
      "text/plain": [
       "<Figure size 900x300 with 1 Axes>"
      ]
     },
     "metadata": {},
     "output_type": "display_data"
    },
    {
     "name": "stdout",
     "output_type": "stream",
     "text": [
      "\n",
      "Fecha mínima (donde los datos comenzaron a estabilizarse): 2019-07-31 22:00:00\n",
      "Fecha máxima (donde los datos comenzaron a estabilizarse): 2019-08-07 21:00:00\n",
      "Tiempo total transcurrido en días: 7.0\n"
     ]
    },
    {
     "data": {
      "image/png": "[encoded data removed]",
      "text/plain": [
       "<Figure size 900x300 with 1 Axes>"
      ]
     },
     "metadata": {},
     "output_type": "display_data"
    }
   ],
   "source": [
    "# Cálculo de fechas mínima y máxima\n",
    "print(f\"Fecha mínima: {df['event_datetime'].min()}\")\n",
    "print(f\"Fecha máxima: {df['event_datetime'].max()}\")\n",
    "print(f\"Tiempo total transcurrido en días: {round((df['event_datetime'].max()-df['event_datetime'].min())/np.timedelta64(1,'D'),1)}\")\n",
    "\n",
    "# Gráfico de frecuencia por fecha y hora\n",
    "freq = df.groupby(['event_date','event_datetime'], as_index=False)['user_id'].nunique().sort_values(by='event_datetime')\n",
    "freq.reset_index(inplace=True)\n",
    "\n",
    "ticks=[]\n",
    "step = 20\n",
    "count=0\n",
    "for x in freq.index:\n",
    "    if x == count:\n",
    "        ticks.append(freq.loc[x,'event_datetime'])\n",
    "        count += step\n",
    "\n",
    "freq['user_id'].plot(kind='bar', figsize=(9,3))\n",
    "plt.xticks(np.arange(0, freq['event_datetime'].count(), step), ticks)\n",
    "plt.xlabel('Date')\n",
    "plt.ylabel('User count')\n",
    "plt.title('User count per day and hour')\n",
    "plt.show()\n",
    "print()\n",
    "\n",
    "# Gráfico de frecuencia por fecha y hora a partir del momento en que se estabilizan los datos\n",
    "freq = freq.query('event_datetime >= \"2019-07-31 22:00:00\"')\n",
    "freq.reset_index(inplace=True)\n",
    "\n",
    "ticks=[]\n",
    "step = 10\n",
    "count=0\n",
    "for x in freq.index:\n",
    "    if x == count:\n",
    "        ticks.append(freq.loc[x,'event_datetime'])\n",
    "        count += step\n",
    "\n",
    "print(f\"Fecha mínima (donde los datos comenzaron a estabilizarse): {freq['event_datetime'].min()}\")\n",
    "print(f\"Fecha máxima (donde los datos comenzaron a estabilizarse): {freq['event_datetime'].max()}\")\n",
    "print(f\"Tiempo total transcurrido en días: {round((freq['event_datetime'].max()-freq['event_datetime'].min())/np.timedelta64(1,'D'),1)}\")        \n",
    "        \n",
    "freq['user_id'].plot(kind='bar', figsize=(9,3))\n",
    "plt.xticks(np.arange(0, freq['event_datetime'].count(), step), ticks)\n",
    "plt.xlabel('Date')\n",
    "plt.ylabel('User count')\n",
    "plt.title('Filtered user count per day and hour')\n",
    "plt.show()"
   ]
  },
  {
   "cell_type": "markdown",
   "metadata": {},
   "source": [
    "Comentarios:\n",
    "1. Se logró establecer que se recolectó información por aproximadamente 14 días\n",
    "2. A partir de la distribución de usuarios únicos por fecha y hora se puede concluir que los datos comenzaron a mostrar un comportamiento estable hasta despúes de 2019-07-31 a las 22:00\n",
    "3. Una vez filtrados los datos, se logró identificar que los datos a utilizar fueron recolectados por tan solo 7 días, la mitad del tiempo total en que se recolectó información"
   ]
  },
  {
   "cell_type": "code",
   "execution_count": 8,
   "metadata": {},
   "outputs": [
    {
     "name": "stdout",
     "output_type": "stream",
     "text": [
      "Cantidad de eventos únicos: 5\n",
      "\n",
      "Conteo total de eventos ocurridos (sin filtrar): 243713\n",
      "Conteo total de eventos ocurridos (después del filtrado): 241491\n",
      "Cantidad de eventos descartados: 2222\n",
      "\n",
      "Cantidad de usuarios únicos (sin filtrar): 7551\n",
      "Cantidad de usuarios únicos (después del filtrado): 7538\n",
      "Cantidad de usuarios descartados: 13\n",
      "\n",
      "Promedio de eventos por usuario (sin filtrar): 20\n",
      "Promedio de eventos por usuario (después del filtrado): 19\n"
     ]
    }
   ],
   "source": [
    "# ¿Perdiste muchos eventos y usuarios al excluir los datos más antiguos?\n",
    "filtered_df = df.query('event_datetime >= \"2019-07-31 22:00:00\"')\n",
    "\n",
    "# Variación en los registros\n",
    "print(f\"Cantidad de eventos únicos: {filtered_df['event'].nunique()}\")\n",
    "print()\n",
    "\n",
    "print(f\"Conteo total de eventos ocurridos (sin filtrar): {df['event'].count()}\")\n",
    "print(f\"Conteo total de eventos ocurridos (después del filtrado): {filtered_df['event'].count()}\")\n",
    "print(f\"Cantidad de eventos descartados: {df['event'].count()-filtered_df['event'].count()}\")\n",
    "print()\n",
    "\n",
    "# Variación en cantidad de usuarios\n",
    "print(f\"Cantidad de usuarios únicos (sin filtrar): {df['user_id'].nunique()}\")\n",
    "print(f\"Cantidad de usuarios únicos (después del filtrado): {filtered_df['user_id'].nunique()}\")\n",
    "print(f\"Cantidad de usuarios descartados: {df['user_id'].nunique()-filtered_df['user_id'].nunique()}\")\n",
    "print()\n",
    "\n",
    "# Variación en promedio de eventos\n",
    "print(f\"Promedio de eventos por usuario (sin filtrar): {math.floor(grouped_events.median())}\")\n",
    "\n",
    "grouped_events = filtered_df.groupby('user_id')['event'].count().sort_values(ascending=False)\n",
    "\n",
    "print(f\"Promedio de eventos por usuario (después del filtrado): {math.floor(grouped_events.median())}\")"
   ]
  },
  {
   "cell_type": "markdown",
   "metadata": {},
   "source": [
    "Comentarios:\n",
    "1. Se identificó una disminución de 2222 eventos luego de realizar el filtrado\n",
    "2. El número de usuarios registrados en el periodo filtrado es 13 usuarios menor al calculado originalmente\n",
    "3. El promedio de eventos por usuario se redujo de 20 a 19 una vez filtrados los datos"
   ]
  },
  {
   "cell_type": "code",
   "execution_count": 9,
   "metadata": {},
   "outputs": [
    {
     "data": {
      "text/html": [
       "<div>\n",
       "<style scoped>\n",
       "    .dataframe tbody tr th:only-of-type {\n",
       "        vertical-align: middle;\n",
       "    }\n",
       "\n",
       "    .dataframe tbody tr th {\n",
       "        vertical-align: top;\n",
       "    }\n",
       "\n",
       "    .dataframe thead th {\n",
       "        text-align: right;\n",
       "    }\n",
       "</style>\n",
       "<table border=\"1\" class=\"dataframe\">\n",
       "  <thead>\n",
       "    <tr style=\"text-align: right;\">\n",
       "      <th></th>\n",
       "      <th>group</th>\n",
       "      <th>user_count</th>\n",
       "    </tr>\n",
       "  </thead>\n",
       "  <tbody>\n",
       "    <tr>\n",
       "      <th>0</th>\n",
       "      <td>246</td>\n",
       "      <td>2484</td>\n",
       "    </tr>\n",
       "    <tr>\n",
       "      <th>1</th>\n",
       "      <td>247</td>\n",
       "      <td>2517</td>\n",
       "    </tr>\n",
       "    <tr>\n",
       "      <th>2</th>\n",
       "      <td>248</td>\n",
       "      <td>2537</td>\n",
       "    </tr>\n",
       "  </tbody>\n",
       "</table>\n",
       "</div>"
      ],
      "text/plain": [
       "  group  user_count\n",
       "0   246        2484\n",
       "1   247        2517\n",
       "2   248        2537"
      ]
     },
     "metadata": {},
     "output_type": "display_data"
    }
   ],
   "source": [
    "# Conteo de usuarios por grupo\n",
    "group_count = filtered_df.groupby('group')['user_id'].nunique().reset_index(name='user_count')\n",
    "display(group_count)"
   ]
  },
  {
   "cell_type": "markdown",
   "metadata": {},
   "source": [
    "-------------\n",
    "# 4. Estudio del embudo de eventos"
   ]
  },
  {
   "cell_type": "code",
   "execution_count": 10,
   "metadata": {},
   "outputs": [
    {
     "data": {
      "text/html": [
       "<div>\n",
       "<style scoped>\n",
       "    .dataframe tbody tr th:only-of-type {\n",
       "        vertical-align: middle;\n",
       "    }\n",
       "\n",
       "    .dataframe tbody tr th {\n",
       "        vertical-align: top;\n",
       "    }\n",
       "\n",
       "    .dataframe thead th {\n",
       "        text-align: right;\n",
       "    }\n",
       "</style>\n",
       "<table border=\"1\" class=\"dataframe\">\n",
       "  <thead>\n",
       "    <tr style=\"text-align: right;\">\n",
       "      <th></th>\n",
       "      <th>event</th>\n",
       "      <th>event_count</th>\n",
       "    </tr>\n",
       "  </thead>\n",
       "  <tbody>\n",
       "    <tr>\n",
       "      <th>0</th>\n",
       "      <td>MainScreenAppear</td>\n",
       "      <td>117745</td>\n",
       "    </tr>\n",
       "    <tr>\n",
       "      <th>1</th>\n",
       "      <td>OffersScreenAppear</td>\n",
       "      <td>46472</td>\n",
       "    </tr>\n",
       "    <tr>\n",
       "      <th>2</th>\n",
       "      <td>CartScreenAppear</td>\n",
       "      <td>42327</td>\n",
       "    </tr>\n",
       "    <tr>\n",
       "      <th>3</th>\n",
       "      <td>PaymentScreenSuccessful</td>\n",
       "      <td>33939</td>\n",
       "    </tr>\n",
       "    <tr>\n",
       "      <th>4</th>\n",
       "      <td>Tutorial</td>\n",
       "      <td>1008</td>\n",
       "    </tr>\n",
       "  </tbody>\n",
       "</table>\n",
       "</div>"
      ],
      "text/plain": [
       "                     event  event_count\n",
       "0         MainScreenAppear       117745\n",
       "1       OffersScreenAppear        46472\n",
       "2         CartScreenAppear        42327\n",
       "3  PaymentScreenSuccessful        33939\n",
       "4                 Tutorial         1008"
      ]
     },
     "metadata": {},
     "output_type": "display_data"
    }
   ],
   "source": [
    "# Eventos registrados y su frecuencia de suceso\n",
    "grouped_reg = filtered_df['event'].value_counts().reset_index(name='event_count')\n",
    "grouped_reg.rename(columns={'index':'event'}, inplace=True)\n",
    "\n",
    "display(grouped_reg)"
   ]
  },
  {
   "cell_type": "code",
   "execution_count": 11,
   "metadata": {},
   "outputs": [
    {
     "data": {
      "text/html": [
       "<div>\n",
       "<style scoped>\n",
       "    .dataframe tbody tr th:only-of-type {\n",
       "        vertical-align: middle;\n",
       "    }\n",
       "\n",
       "    .dataframe tbody tr th {\n",
       "        vertical-align: top;\n",
       "    }\n",
       "\n",
       "    .dataframe thead th {\n",
       "        text-align: right;\n",
       "    }\n",
       "</style>\n",
       "<table border=\"1\" class=\"dataframe\">\n",
       "  <thead>\n",
       "    <tr style=\"text-align: right;\">\n",
       "      <th></th>\n",
       "      <th>event</th>\n",
       "      <th>event_count</th>\n",
       "      <th>user_count</th>\n",
       "      <th>general_proportion(%)</th>\n",
       "    </tr>\n",
       "  </thead>\n",
       "  <tbody>\n",
       "    <tr>\n",
       "      <th>1</th>\n",
       "      <td>MainScreenAppear</td>\n",
       "      <td>117745</td>\n",
       "      <td>7423</td>\n",
       "      <td>98.47</td>\n",
       "    </tr>\n",
       "    <tr>\n",
       "      <th>2</th>\n",
       "      <td>OffersScreenAppear</td>\n",
       "      <td>46472</td>\n",
       "      <td>4596</td>\n",
       "      <td>60.97</td>\n",
       "    </tr>\n",
       "    <tr>\n",
       "      <th>0</th>\n",
       "      <td>CartScreenAppear</td>\n",
       "      <td>42327</td>\n",
       "      <td>3735</td>\n",
       "      <td>49.55</td>\n",
       "    </tr>\n",
       "    <tr>\n",
       "      <th>3</th>\n",
       "      <td>PaymentScreenSuccessful</td>\n",
       "      <td>33939</td>\n",
       "      <td>3539</td>\n",
       "      <td>46.95</td>\n",
       "    </tr>\n",
       "    <tr>\n",
       "      <th>4</th>\n",
       "      <td>Tutorial</td>\n",
       "      <td>1008</td>\n",
       "      <td>842</td>\n",
       "      <td>11.17</td>\n",
       "    </tr>\n",
       "  </tbody>\n",
       "</table>\n",
       "</div>"
      ],
      "text/plain": [
       "                     event  event_count  user_count  general_proportion(%)\n",
       "1         MainScreenAppear       117745        7423                  98.47\n",
       "2       OffersScreenAppear        46472        4596                  60.97\n",
       "0         CartScreenAppear        42327        3735                  49.55\n",
       "3  PaymentScreenSuccessful        33939        3539                  46.95\n",
       "4                 Tutorial         1008         842                  11.17"
      ]
     },
     "metadata": {},
     "output_type": "display_data"
    }
   ],
   "source": [
    "# Cantidad de usuarios que realizaron cada una de estas acciones al menos una vez\n",
    "grouped_users = filtered_df.groupby('event')['user_id'].nunique().reset_index(name='user_count')\n",
    "grouped_users = grouped_users.merge(grouped_reg, on='event').sort_values(by='event_count', ascending=False)\n",
    "grouped_users = grouped_users[['event','event_count','user_count']]\n",
    "\n",
    "# Proporción de usuarios que realizaron la acción \n",
    "grouped_users['general_proportion(%)'] = round(grouped_users['user_count']*100/filtered_df['user_id'].nunique(),2)\n",
    "\n",
    "display(grouped_users)"
   ]
  },
  {
   "cell_type": "markdown",
   "metadata": {},
   "source": [
    "Comentarios:\n",
    "1. De los datos anteriores se puede evidenciar que el flujo de acciones corresponde a MainScreenAppear, OffersScreenAppear, CartScreenAppear, PaymentScreenSuccessful\n",
    "2. Se considera que la etapa Tutorial no hace parte de la misma secuencia de acciones y que puede ser descartada para cálculos posteriores, pues no afecta el flujo de eventos"
   ]
  },
  {
   "cell_type": "code",
   "execution_count": 12,
   "metadata": {},
   "outputs": [
    {
     "data": {
      "text/html": [
       "<div>\n",
       "<style scoped>\n",
       "    .dataframe tbody tr th:only-of-type {\n",
       "        vertical-align: middle;\n",
       "    }\n",
       "\n",
       "    .dataframe tbody tr th {\n",
       "        vertical-align: top;\n",
       "    }\n",
       "\n",
       "    .dataframe thead th {\n",
       "        text-align: right;\n",
       "    }\n",
       "</style>\n",
       "<table border=\"1\" class=\"dataframe\">\n",
       "  <thead>\n",
       "    <tr style=\"text-align: right;\">\n",
       "      <th></th>\n",
       "      <th>event</th>\n",
       "      <th>funnel_user_count</th>\n",
       "      <th>stage_proportion(%)</th>\n",
       "    </tr>\n",
       "  </thead>\n",
       "  <tbody>\n",
       "    <tr>\n",
       "      <th>0</th>\n",
       "      <td>MainScreenAppear</td>\n",
       "      <td>7423</td>\n",
       "      <td>-</td>\n",
       "    </tr>\n",
       "    <tr>\n",
       "      <th>1</th>\n",
       "      <td>OffersScreenAppear</td>\n",
       "      <td>1100</td>\n",
       "      <td>14.82</td>\n",
       "    </tr>\n",
       "    <tr>\n",
       "      <th>2</th>\n",
       "      <td>CartScreenAppear</td>\n",
       "      <td>138</td>\n",
       "      <td>12.55</td>\n",
       "    </tr>\n",
       "    <tr>\n",
       "      <th>3</th>\n",
       "      <td>PaymentScreenSuccessful</td>\n",
       "      <td>8</td>\n",
       "      <td>5.8</td>\n",
       "    </tr>\n",
       "  </tbody>\n",
       "</table>\n",
       "</div>"
      ],
      "text/plain": [
       "                     event  funnel_user_count stage_proportion(%)\n",
       "0         MainScreenAppear               7423                   -\n",
       "1       OffersScreenAppear               1100               14.82\n",
       "2         CartScreenAppear                138               12.55\n",
       "3  PaymentScreenSuccessful                  8                 5.8"
      ]
     },
     "metadata": {},
     "output_type": "display_data"
    }
   ],
   "source": [
    "# Proporción de usuarios que pasan de una etapa a la siguiente del embudo\n",
    "filtered_df = filtered_df[filtered_df['event'] != 'Tutorial']\n",
    "\n",
    "users = filtered_df.pivot_table(index='user_id', \n",
    "                                columns='event', \n",
    "                                values='event_datetime',\n",
    "                                aggfunc='min')\n",
    "\n",
    "step1 = ~users['MainScreenAppear'].isna()\n",
    "step2 = step1 & (users['OffersScreenAppear']>users['MainScreenAppear'])\n",
    "step3 = step2 & (users['CartScreenAppear']>users['OffersScreenAppear'])\n",
    "step4 = step3 & (users['PaymentScreenSuccessful']>users['CartScreenAppear'])\n",
    "\n",
    "n_s1 = users[step1].shape[0]\n",
    "n_s2 = users[step2].shape[0]\n",
    "n_s3 = users[step3].shape[0]\n",
    "n_s4 = users[step4].shape[0]\n",
    "\n",
    "data = {'event':['MainScreenAppear','OffersScreenAppear','CartScreenAppear','PaymentScreenSuccessful'],\n",
    "        'funnel_user_count':[n_s1,n_s2,n_s3,n_s4]}\n",
    "\n",
    "stages = pd.DataFrame(data=data, index=[0,1,2,3])\n",
    "stages['stage_proportion(%)'] = (stages['funnel_user_count']\n",
    "                                 .map(lambda x: round(x*100/stages[stages['funnel_user_count']>x]['funnel_user_count'].min(),2)))\n",
    "\n",
    "stages.fillna('-', inplace=True)\n",
    "\n",
    "display(stages)"
   ]
  },
  {
   "cell_type": "markdown",
   "metadata": {},
   "source": [
    "Comentarios:\n",
    "1. Al analizar los porcentajes de retención entre una etapa y otra se puede observar que la etapa donde mayor impacto se ve está después de que los usuarios han ingresado a revisar el carrito (CartScreenAppear) y proceden a pagar (PaymentScreenSuccessful)\n",
    "2. Se pudo observar también que la tasa entre las primeras 3 etapas es bastante similar, variando tan solo 2.3%"
   ]
  },
  {
   "cell_type": "code",
   "execution_count": 13,
   "metadata": {},
   "outputs": [
    {
     "name": "stdout",
     "output_type": "stream",
     "text": [
      "Porcentaje de usuarios que hace todo el viaje desde el primer evento hasta el pago: 0.11%\n"
     ]
    }
   ],
   "source": [
    "# Porcentaje de usuarios que hace todo el viaje desde el primer evento hasta el pago\n",
    "funnel_conversion = stages['funnel_user_count'].min()*100/stages['funnel_user_count'].max()\n",
    "print(f'Porcentaje de usuarios que hace todo el viaje desde el primer evento hasta el pago: {round(funnel_conversion,2)}%')"
   ]
  },
  {
   "cell_type": "markdown",
   "metadata": {},
   "source": [
    "-------------\n",
    "# 5. Estudio de resultados del experimento"
   ]
  },
  {
   "cell_type": "code",
   "execution_count": 14,
   "metadata": {},
   "outputs": [
    {
     "data": {
      "text/html": [
       "<div>\n",
       "<style scoped>\n",
       "    .dataframe tbody tr th:only-of-type {\n",
       "        vertical-align: middle;\n",
       "    }\n",
       "\n",
       "    .dataframe tbody tr th {\n",
       "        vertical-align: top;\n",
       "    }\n",
       "\n",
       "    .dataframe thead th {\n",
       "        text-align: right;\n",
       "    }\n",
       "</style>\n",
       "<table border=\"1\" class=\"dataframe\">\n",
       "  <thead>\n",
       "    <tr style=\"text-align: right;\">\n",
       "      <th></th>\n",
       "      <th>group</th>\n",
       "      <th>user_count</th>\n",
       "    </tr>\n",
       "  </thead>\n",
       "  <tbody>\n",
       "    <tr>\n",
       "      <th>0</th>\n",
       "      <td>246</td>\n",
       "      <td>2483</td>\n",
       "    </tr>\n",
       "    <tr>\n",
       "      <th>1</th>\n",
       "      <td>247</td>\n",
       "      <td>2516</td>\n",
       "    </tr>\n",
       "    <tr>\n",
       "      <th>2</th>\n",
       "      <td>248</td>\n",
       "      <td>2535</td>\n",
       "    </tr>\n",
       "  </tbody>\n",
       "</table>\n",
       "</div>"
      ],
      "text/plain": [
       "  group  user_count\n",
       "0   246        2483\n",
       "1   247        2516\n",
       "2   248        2535"
      ]
     },
     "metadata": {},
     "output_type": "display_data"
    }
   ],
   "source": [
    "# Cantidad de usuarios por grupo\n",
    "group_count = filtered_df.groupby('group')['user_id'].nunique().reset_index(name='user_count')\n",
    "display(group_count)"
   ]
  },
  {
   "cell_type": "code",
   "execution_count": 15,
   "metadata": {},
   "outputs": [
    {
     "name": "stdout",
     "output_type": "stream",
     "text": [
      "Valor p para prueba de igualdad de proporciones entre grupos experimentales: 0.111 (11.11%)\n",
      "\n",
      "Hipótesis nula aceptada: El comportamiento de los grupos experimentales indica que no existe una diferencia significativa entre las proporciones de las muestras\n"
     ]
    }
   ],
   "source": [
    "# Revisión de diferencia estadísticamente significativa entre las muestras 246 y 247\n",
    "\n",
    "# Creación de muestras separadas por grupo\n",
    "sample_A1 = (filtered_df\n",
    "             .query('group == \"246\"')\n",
    "             .groupby('event')['user_id'].nunique()\n",
    "             .reset_index(name='user_count')\n",
    "             .sort_values(by='user_count', ascending=False))\n",
    "\n",
    "sample_A2 = (filtered_df\n",
    "             .query('group == \"247\"')\n",
    "             .groupby('event')['user_id'].nunique()\n",
    "             .reset_index(name='user_count')\n",
    "             .sort_values(by='user_count', ascending=False))\n",
    "\n",
    "# Comparación estadística de proporciones\n",
    "n1 = sample_A1['user_count'].max()\n",
    "n2 = sample_A2['user_count'].max()\n",
    "\n",
    "p1 = sample_A1['user_count'].min()/n1\n",
    "p2 = sample_A2['user_count'].min()/n2\n",
    "\n",
    "p_combined = (sample_A1['user_count'].min() + sample_A2['user_count'].min())/(n1 + n2)\n",
    "\n",
    "z_value = abs((p1 - p2)/math.sqrt(p_combined*(1 - p_combined)*(1/n1 + 1/n2)))\n",
    "\n",
    "distr = st.norm(0,1)\n",
    "\n",
    "p_value = (1 - distr.cdf(z_value))*2\n",
    "\n",
    "print(f'Valor p para prueba de igualdad de proporciones entre grupos experimentales: {round(p_value,3)} ({round(p_value*100,2)}%)')\n",
    "print()\n",
    "\n",
    "alpha = 0.05\n",
    "\n",
    "if p_value < alpha:\n",
    "    print(\"Hipótesis nula rechazada: El comportamiento de los grupos experimentales indica que existe una diferencia significativa entre las proporciones de las muestras\")\n",
    "else:\n",
    "    print(\"Hipótesis nula aceptada: El comportamiento de los grupos experimentales indica que no existe una diferencia significativa entre las proporciones de las muestras\")"
   ]
  },
  {
   "cell_type": "code",
   "execution_count": 16,
   "metadata": {},
   "outputs": [
    {
     "name": "stdout",
     "output_type": "stream",
     "text": [
      "\u001b[1mEvento más popular:\u001b[0m MainScreenAppear\n",
      "\n",
      "\n",
      "\u001b[1mCantidad total de usuarios por acción para cada grupo\u001b[0m\n"
     ]
    },
    {
     "data": {
      "text/html": [
       "<div>\n",
       "<style scoped>\n",
       "    .dataframe tbody tr th:only-of-type {\n",
       "        vertical-align: middle;\n",
       "    }\n",
       "\n",
       "    .dataframe tbody tr th {\n",
       "        vertical-align: top;\n",
       "    }\n",
       "\n",
       "    .dataframe thead th {\n",
       "        text-align: right;\n",
       "    }\n",
       "</style>\n",
       "<table border=\"1\" class=\"dataframe\">\n",
       "  <thead>\n",
       "    <tr style=\"text-align: right;\">\n",
       "      <th>group</th>\n",
       "      <th>246</th>\n",
       "      <th>247</th>\n",
       "      <th>248</th>\n",
       "    </tr>\n",
       "    <tr>\n",
       "      <th>event</th>\n",
       "      <th></th>\n",
       "      <th></th>\n",
       "      <th></th>\n",
       "    </tr>\n",
       "  </thead>\n",
       "  <tbody>\n",
       "    <tr>\n",
       "      <th>MainScreenAppear</th>\n",
       "      <td>2450</td>\n",
       "      <td>2479</td>\n",
       "      <td>2494</td>\n",
       "    </tr>\n",
       "    <tr>\n",
       "      <th>OffersScreenAppear</th>\n",
       "      <td>1542</td>\n",
       "      <td>1523</td>\n",
       "      <td>1531</td>\n",
       "    </tr>\n",
       "    <tr>\n",
       "      <th>CartScreenAppear</th>\n",
       "      <td>1266</td>\n",
       "      <td>1239</td>\n",
       "      <td>1230</td>\n",
       "    </tr>\n",
       "    <tr>\n",
       "      <th>PaymentScreenSuccessful</th>\n",
       "      <td>1200</td>\n",
       "      <td>1158</td>\n",
       "      <td>1181</td>\n",
       "    </tr>\n",
       "  </tbody>\n",
       "</table>\n",
       "</div>"
      ],
      "text/plain": [
       "group                     246   247   248\n",
       "event                                    \n",
       "MainScreenAppear         2450  2479  2494\n",
       "OffersScreenAppear       1542  1523  1531\n",
       "CartScreenAppear         1266  1239  1230\n",
       "PaymentScreenSuccessful  1200  1158  1181"
      ]
     },
     "metadata": {},
     "output_type": "display_data"
    },
    {
     "name": "stdout",
     "output_type": "stream",
     "text": [
      "\n",
      "\n",
      "\u001b[1mEmbudo de compras para el grupo 246\u001b[0m\n"
     ]
    },
    {
     "data": {
      "text/html": [
       "<div>\n",
       "<style scoped>\n",
       "    .dataframe tbody tr th:only-of-type {\n",
       "        vertical-align: middle;\n",
       "    }\n",
       "\n",
       "    .dataframe tbody tr th {\n",
       "        vertical-align: top;\n",
       "    }\n",
       "\n",
       "    .dataframe thead th {\n",
       "        text-align: right;\n",
       "    }\n",
       "</style>\n",
       "<table border=\"1\" class=\"dataframe\">\n",
       "  <thead>\n",
       "    <tr style=\"text-align: right;\">\n",
       "      <th></th>\n",
       "      <th>event</th>\n",
       "      <th>funnel_user_count</th>\n",
       "      <th>stage_proportion(%)</th>\n",
       "    </tr>\n",
       "  </thead>\n",
       "  <tbody>\n",
       "    <tr>\n",
       "      <th>0</th>\n",
       "      <td>MainScreenAppear</td>\n",
       "      <td>2450</td>\n",
       "      <td>-</td>\n",
       "    </tr>\n",
       "    <tr>\n",
       "      <th>1</th>\n",
       "      <td>OffersScreenAppear</td>\n",
       "      <td>370</td>\n",
       "      <td>15.1</td>\n",
       "    </tr>\n",
       "    <tr>\n",
       "      <th>2</th>\n",
       "      <td>CartScreenAppear</td>\n",
       "      <td>46</td>\n",
       "      <td>12.43</td>\n",
       "    </tr>\n",
       "    <tr>\n",
       "      <th>3</th>\n",
       "      <td>PaymentScreenSuccessful</td>\n",
       "      <td>1</td>\n",
       "      <td>2.17</td>\n",
       "    </tr>\n",
       "  </tbody>\n",
       "</table>\n",
       "</div>"
      ],
      "text/plain": [
       "                     event  funnel_user_count stage_proportion(%)\n",
       "0         MainScreenAppear               2450                   -\n",
       "1       OffersScreenAppear                370                15.1\n",
       "2         CartScreenAppear                 46               12.43\n",
       "3  PaymentScreenSuccessful                  1                2.17"
      ]
     },
     "metadata": {},
     "output_type": "display_data"
    },
    {
     "name": "stdout",
     "output_type": "stream",
     "text": [
      "\n",
      "\n",
      "\u001b[1mEmbudo de compras para el grupo 247\u001b[0m\n"
     ]
    },
    {
     "data": {
      "text/html": [
       "<div>\n",
       "<style scoped>\n",
       "    .dataframe tbody tr th:only-of-type {\n",
       "        vertical-align: middle;\n",
       "    }\n",
       "\n",
       "    .dataframe tbody tr th {\n",
       "        vertical-align: top;\n",
       "    }\n",
       "\n",
       "    .dataframe thead th {\n",
       "        text-align: right;\n",
       "    }\n",
       "</style>\n",
       "<table border=\"1\" class=\"dataframe\">\n",
       "  <thead>\n",
       "    <tr style=\"text-align: right;\">\n",
       "      <th></th>\n",
       "      <th>event</th>\n",
       "      <th>funnel_user_count</th>\n",
       "      <th>stage_proportion(%)</th>\n",
       "    </tr>\n",
       "  </thead>\n",
       "  <tbody>\n",
       "    <tr>\n",
       "      <th>0</th>\n",
       "      <td>MainScreenAppear</td>\n",
       "      <td>2479</td>\n",
       "      <td>-</td>\n",
       "    </tr>\n",
       "    <tr>\n",
       "      <th>1</th>\n",
       "      <td>OffersScreenAppear</td>\n",
       "      <td>368</td>\n",
       "      <td>14.84</td>\n",
       "    </tr>\n",
       "    <tr>\n",
       "      <th>2</th>\n",
       "      <td>CartScreenAppear</td>\n",
       "      <td>48</td>\n",
       "      <td>13.04</td>\n",
       "    </tr>\n",
       "    <tr>\n",
       "      <th>3</th>\n",
       "      <td>PaymentScreenSuccessful</td>\n",
       "      <td>4</td>\n",
       "      <td>8.33</td>\n",
       "    </tr>\n",
       "  </tbody>\n",
       "</table>\n",
       "</div>"
      ],
      "text/plain": [
       "                     event  funnel_user_count stage_proportion(%)\n",
       "0         MainScreenAppear               2479                   -\n",
       "1       OffersScreenAppear                368               14.84\n",
       "2         CartScreenAppear                 48               13.04\n",
       "3  PaymentScreenSuccessful                  4                8.33"
      ]
     },
     "metadata": {},
     "output_type": "display_data"
    },
    {
     "name": "stdout",
     "output_type": "stream",
     "text": [
      "\n",
      "\n",
      "\u001b[1mEmbudo de compras para el grupo 248\u001b[0m\n"
     ]
    },
    {
     "data": {
      "text/html": [
       "<div>\n",
       "<style scoped>\n",
       "    .dataframe tbody tr th:only-of-type {\n",
       "        vertical-align: middle;\n",
       "    }\n",
       "\n",
       "    .dataframe tbody tr th {\n",
       "        vertical-align: top;\n",
       "    }\n",
       "\n",
       "    .dataframe thead th {\n",
       "        text-align: right;\n",
       "    }\n",
       "</style>\n",
       "<table border=\"1\" class=\"dataframe\">\n",
       "  <thead>\n",
       "    <tr style=\"text-align: right;\">\n",
       "      <th></th>\n",
       "      <th>event</th>\n",
       "      <th>funnel_user_count</th>\n",
       "      <th>stage_proportion(%)</th>\n",
       "    </tr>\n",
       "  </thead>\n",
       "  <tbody>\n",
       "    <tr>\n",
       "      <th>0</th>\n",
       "      <td>MainScreenAppear</td>\n",
       "      <td>2494</td>\n",
       "      <td>-</td>\n",
       "    </tr>\n",
       "    <tr>\n",
       "      <th>1</th>\n",
       "      <td>OffersScreenAppear</td>\n",
       "      <td>362</td>\n",
       "      <td>14.51</td>\n",
       "    </tr>\n",
       "    <tr>\n",
       "      <th>2</th>\n",
       "      <td>CartScreenAppear</td>\n",
       "      <td>44</td>\n",
       "      <td>12.15</td>\n",
       "    </tr>\n",
       "    <tr>\n",
       "      <th>3</th>\n",
       "      <td>PaymentScreenSuccessful</td>\n",
       "      <td>3</td>\n",
       "      <td>6.82</td>\n",
       "    </tr>\n",
       "  </tbody>\n",
       "</table>\n",
       "</div>"
      ],
      "text/plain": [
       "                     event  funnel_user_count stage_proportion(%)\n",
       "0         MainScreenAppear               2494                   -\n",
       "1       OffersScreenAppear                362               14.51\n",
       "2         CartScreenAppear                 44               12.15\n",
       "3  PaymentScreenSuccessful                  3                6.82"
      ]
     },
     "metadata": {},
     "output_type": "display_data"
    },
    {
     "name": "stdout",
     "output_type": "stream",
     "text": [
      "--------------------------------------------------------------------------------\n",
      "Valor p para prueba de igualdad de proporciones entre los grupos 246 y 247: 0.111 (11.11%)\n",
      "\n",
      "Hipótesis nula aceptada: El comportamiento de los grupos experimentales indica que no existe una diferencia significativa entre las proporciones de las muestras 246 y 247\n",
      "None\n",
      "--------------------------------------------------------------------------------\n",
      "Valor p para prueba de igualdad de proporciones entre los grupos 246 y 248: 0.253 (25.26%)\n",
      "\n",
      "Hipótesis nula aceptada: El comportamiento de los grupos experimentales indica que no existe una diferencia significativa entre las proporciones de las muestras 246 y 248\n",
      "None\n",
      "--------------------------------------------------------------------------------\n",
      "Valor p para prueba de igualdad de proporciones entre los grupos 247 y 248: 0.651 (65.05%)\n",
      "\n",
      "Hipótesis nula aceptada: El comportamiento de los grupos experimentales indica que no existe una diferencia significativa entre las proporciones de las muestras 247 y 248\n",
      "None\n"
     ]
    }
   ],
   "source": [
    "# Cálculo de proporciones y significación estadística con datos filtrados\n",
    "\n",
    "# Evento más popular\n",
    "print(f\"\\033[1mEvento más popular:\\033[0m {grouped_reg.loc[0,'event']}\")\n",
    "print()\n",
    "print()\n",
    "\n",
    "# Cantidad de usuarios que realizaron cada acción en cada grupo de control\n",
    "grouped_actions = filtered_df.groupby(['event','group'], as_index=False)['user_id'].nunique().sort_values(by='user_id', ascending=False)\n",
    "grouped_actions.rename(columns={'user_id':'user_count'}, inplace=True)\n",
    "\n",
    "grouped_actions = grouped_actions.pivot_table(index='event', \n",
    "                                              columns='group', \n",
    "                                              values='user_count',\n",
    "                                              aggfunc='mean')\n",
    "\n",
    "print(f'\\033[1mCantidad total de usuarios por acción para cada grupo\\033[0m')\n",
    "display(grouped_actions.sort_values(by='246', ascending=False))\n",
    "print()\n",
    "print()\n",
    "\n",
    "# Proporción de usuarios que pasan de una etapa a la siguiente del embudo\n",
    "def stage_proportion(data, group):\n",
    "    group = str(group)\n",
    "    \n",
    "    users = data[data['group'] == group].pivot_table(index='user_id', \n",
    "                                                     columns='event', \n",
    "                                                     values='event_datetime',\n",
    "                                                     aggfunc='min')\n",
    "\n",
    "    step1 = ~users['MainScreenAppear'].isna()\n",
    "    step2 = step1 & (users['OffersScreenAppear']>users['MainScreenAppear'])\n",
    "    step3 = step2 & (users['CartScreenAppear']>users['OffersScreenAppear'])\n",
    "    step4 = step3 & (users['PaymentScreenSuccessful']>users['CartScreenAppear'])\n",
    "\n",
    "    n_s1 = users[step1].shape[0]\n",
    "    n_s2 = users[step2].shape[0]\n",
    "    n_s3 = users[step3].shape[0]\n",
    "    n_s4 = users[step4].shape[0]\n",
    "\n",
    "    stage_data = {'event':['MainScreenAppear','OffersScreenAppear','CartScreenAppear','PaymentScreenSuccessful'],\n",
    "                  'funnel_user_count':[n_s1,n_s2,n_s3,n_s4]}\n",
    "    \n",
    "    stages = pd.DataFrame(data=stage_data, index=[0,1,2,3])\n",
    "    stages['stage_proportion(%)'] = (stages['funnel_user_count']\n",
    "                                     .map(lambda x: round(x*100/stages[stages['funnel_user_count']>x]['funnel_user_count'].min(),2)))\n",
    "\n",
    "    stages.fillna('-', inplace=True)\n",
    "    print(f'\\033[1mEmbudo de compras para el grupo {group}\\033[0m')\n",
    "    return stages\n",
    "\n",
    "display(stage_proportion(filtered_df,246))\n",
    "print()\n",
    "print()\n",
    "display(stage_proportion(filtered_df,247))\n",
    "print()\n",
    "print()\n",
    "display(stage_proportion(filtered_df,248))\n",
    "\n",
    "# Comparación estadística de proporciones entre grupos\n",
    "stat_comparison_cnt = 0\n",
    "\n",
    "def stat_comparison(data, A, B, alpha=0.05):\n",
    "    global stat_comparison_cnt\n",
    "    stat_comparison_cnt += 1\n",
    "    \n",
    "    A = str(A)\n",
    "    B = str(B)\n",
    "    \n",
    "    sample_A = (data[data['group'] == A]\n",
    "                .groupby('event')['user_id'].nunique()\n",
    "                .reset_index(name='user_count')\n",
    "                .sort_values(by='user_count', ascending=False))\n",
    "\n",
    "    sample_B = (data[data['group'] == B]\n",
    "                .groupby('event')['user_id'].nunique()\n",
    "                .reset_index(name='user_count')\n",
    "                .sort_values(by='user_count', ascending=False))\n",
    "\n",
    "    n1 = sample_A['user_count'].max()\n",
    "    n2 = sample_B['user_count'].max()\n",
    "\n",
    "    p1 = sample_A['user_count'].min()/n1\n",
    "    p2 = sample_B['user_count'].min()/n2\n",
    "\n",
    "    p_combined = (sample_A['user_count'].min() + sample_B['user_count'].min())/(n1 + n2)\n",
    "\n",
    "    z_value = abs((p1 - p2)/math.sqrt(p_combined*(1 - p_combined)*(1/n1 + 1/n2)))\n",
    "\n",
    "    distr = st.norm(0,1)\n",
    "\n",
    "    p_value = (1 - distr.cdf(z_value))*2\n",
    "\n",
    "    print('--------------------------------------------------------------------------------') \n",
    "    print(f'Valor p para prueba de igualdad de proporciones entre los grupos {A} y {B}: {round(p_value,3)} ({round(p_value*100,2)}%)')\n",
    "    print()\n",
    "\n",
    "    if p_value < alpha:\n",
    "        print(f\"Hipótesis nula rechazada: El comportamiento de los grupos experimentales indica que existe una diferencia significativa entre las proporciones de las muestras {A} y {B}\")\n",
    "    else:\n",
    "        print(f\"Hipótesis nula aceptada: El comportamiento de los grupos experimentales indica que no existe una diferencia significativa entre las proporciones de las muestras {A} y {B}\")\n",
    "    return\n",
    " \n",
    "print(stat_comparison(filtered_df, 246, 247, 0.0019))   \n",
    "print(stat_comparison(filtered_df, 246, 248, 0.0019))    \n",
    "print(stat_comparison(filtered_df, 247, 248, 0.0019))"
   ]
  },
  {
   "cell_type": "code",
   "execution_count": 17,
   "metadata": {},
   "outputs": [
    {
     "name": "stdout",
     "output_type": "stream",
     "text": [
      "--------------------------------------------------------------------------------\n",
      "Valor p para prueba de igualdad de proporciones entre los grupos 246 y 247 para el evento MainScreenAppear: 0.675 (67.5%)\n",
      "\n",
      "Hipótesis nula aceptada: El comportamiento de los grupos experimentales indica que no existe una diferencia significativa entre las proporciones entre los grupos 246 y 247 para el evento MainScreenAppear\n",
      "None\n",
      "--------------------------------------------------------------------------------\n",
      "Valor p para prueba de igualdad de proporciones entre los grupos 246 y 248 para el evento MainScreenAppear: 0.1 (9.95%)\n",
      "\n",
      "Hipótesis nula aceptada: El comportamiento de los grupos experimentales indica que no existe una diferencia significativa entre las proporciones entre los grupos 246 y 248 para el evento MainScreenAppear\n",
      "None\n",
      "--------------------------------------------------------------------------------\n",
      "Valor p para prueba de igualdad de proporciones entre los grupos 247 y 248 para el evento MainScreenAppear: 0.228 (22.82%)\n",
      "\n",
      "Hipótesis nula aceptada: El comportamiento de los grupos experimentales indica que no existe una diferencia significativa entre las proporciones entre los grupos 247 y 248 para el evento MainScreenAppear\n",
      "None\n",
      "--------------------------------------------------------------------------------\n",
      "Valor p para prueba de igualdad de proporciones entre los grupos 246 y 247 para el evento OffersScreenAppear: 0.789 (78.95%)\n",
      "\n",
      "Hipótesis nula aceptada: El comportamiento de los grupos experimentales indica que no existe una diferencia significativa entre las proporciones entre los grupos 246 y 247 para el evento OffersScreenAppear\n",
      "None\n",
      "--------------------------------------------------------------------------------\n",
      "Valor p para prueba de igualdad de proporciones entre los grupos 246 y 248 para el evento OffersScreenAppear: 0.716 (71.6%)\n",
      "\n",
      "Hipótesis nula aceptada: El comportamiento de los grupos experimentales indica que no existe una diferencia significativa entre las proporciones entre los grupos 246 y 248 para el evento OffersScreenAppear\n",
      "None\n",
      "--------------------------------------------------------------------------------\n",
      "Valor p para prueba de igualdad de proporciones entre los grupos 247 y 248 para el evento OffersScreenAppear: 0.931 (93.09%)\n",
      "\n",
      "Hipótesis nula aceptada: El comportamiento de los grupos experimentales indica que no existe una diferencia significativa entre las proporciones entre los grupos 247 y 248 para el evento OffersScreenAppear\n",
      "None\n",
      "--------------------------------------------------------------------------------\n",
      "Valor p para prueba de igualdad de proporciones entre los grupos 246 y 247 para el evento CartScreenAppear: 0.447 (44.75%)\n",
      "\n",
      "Hipótesis nula aceptada: El comportamiento de los grupos experimentales indica que no existe una diferencia significativa entre las proporciones entre los grupos 246 y 247 para el evento CartScreenAppear\n",
      "None\n",
      "--------------------------------------------------------------------------------\n",
      "Valor p para prueba de igualdad de proporciones entre los grupos 246 y 248 para el evento CartScreenAppear: 0.088 (8.78%)\n",
      "\n",
      "Hipótesis nula aceptada: El comportamiento de los grupos experimentales indica que no existe una diferencia significativa entre las proporciones entre los grupos 246 y 248 para el evento CartScreenAppear\n",
      "None\n",
      "--------------------------------------------------------------------------------\n",
      "Valor p para prueba de igualdad de proporciones entre los grupos 247 y 248 para el evento CartScreenAppear: 0.012 (1.16%)\n",
      "\n",
      "Hipótesis nula aceptada: El comportamiento de los grupos experimentales indica que no existe una diferencia significativa entre las proporciones entre los grupos 247 y 248 para el evento CartScreenAppear\n",
      "None\n",
      "--------------------------------------------------------------------------------\n",
      "Valor p para prueba de igualdad de proporciones entre los grupos 246 y 247 para el evento PaymentScreenSuccessful: 0.406 (40.6%)\n",
      "\n",
      "Hipótesis nula aceptada: El comportamiento de los grupos experimentales indica que no existe una diferencia significativa entre las proporciones entre los grupos 246 y 247 para el evento PaymentScreenSuccessful\n",
      "None\n",
      "--------------------------------------------------------------------------------\n",
      "Valor p para prueba de igualdad de proporciones entre los grupos 246 y 248 para el evento PaymentScreenSuccessful: 0.526 (52.63%)\n",
      "\n",
      "Hipótesis nula aceptada: El comportamiento de los grupos experimentales indica que no existe una diferencia significativa entre las proporciones entre los grupos 246 y 248 para el evento PaymentScreenSuccessful\n",
      "None\n",
      "--------------------------------------------------------------------------------\n",
      "Valor p para prueba de igualdad de proporciones entre los grupos 247 y 248 para el evento PaymentScreenSuccessful: 0.136 (13.6%)\n",
      "\n",
      "Hipótesis nula aceptada: El comportamiento de los grupos experimentales indica que no existe una diferencia significativa entre las proporciones entre los grupos 247 y 248 para el evento PaymentScreenSuccessful\n",
      "None\n"
     ]
    }
   ],
   "source": [
    "# Comparación de proporciones para eventos específicos entre grupos\n",
    "group_comparison_cnt = 0\n",
    "\n",
    "def group_comparison(data, A, B, event, alpha=0.05):\n",
    "    global group_comparison_cnt\n",
    "    group_comparison_cnt += 1\n",
    "    \n",
    "    A = str(A)\n",
    "    B = str(B)\n",
    "    \n",
    "    sample_A = (data[(data['group'] == A) & (data['event'] == event)]\n",
    "                .groupby('user_id')['event'].count()\n",
    "                .reset_index(name='user_count')\n",
    "                .sort_values(by='user_count', ascending=False))\n",
    "\n",
    "    sample_B = (data[(data['group'] == B) & (data['event'] == event)]\n",
    "                .groupby('user_id')['event'].count()\n",
    "                .reset_index(name='user_count')\n",
    "                .sort_values(by='user_count', ascending=False))\n",
    "\n",
    "    results = st.mannwhitneyu(sample_A['user_count'], sample_B['user_count'])\n",
    "    p_value = results.pvalue\n",
    "    \n",
    "    print('--------------------------------------------------------------------------------') \n",
    "    print(f'Valor p para prueba de igualdad de proporciones entre los grupos {A} y {B} para el evento {event}: {round(p_value,3)} ({round(p_value*100,2)}%)')\n",
    "    print()\n",
    "\n",
    "    if p_value < alpha:\n",
    "        print(f\"Hipótesis nula rechazada: El comportamiento de los grupos experimentales indica que existe una diferencia significativa entre las proporciones entre los grupos {A} y {B} para el evento {event}\")\n",
    "    else:\n",
    "        print(f\"Hipótesis nula aceptada: El comportamiento de los grupos experimentales indica que no existe una diferencia significativa entre las proporciones entre los grupos {A} y {B} para el evento {event}\")\n",
    "    return\n",
    "\n",
    "print(group_comparison(filtered_df, 246, 247, 'MainScreenAppear', 0.0019))\n",
    "print(group_comparison(filtered_df, 246, 248, 'MainScreenAppear', 0.0019))\n",
    "print(group_comparison(filtered_df, 247, 248, 'MainScreenAppear', 0.0019))\n",
    "\n",
    "print(group_comparison(filtered_df, 246, 247, 'OffersScreenAppear', 0.0019))\n",
    "print(group_comparison(filtered_df, 246, 248, 'OffersScreenAppear', 0.0019))\n",
    "print(group_comparison(filtered_df, 247, 248, 'OffersScreenAppear', 0.0019))\n",
    "\n",
    "print(group_comparison(filtered_df, 246, 247, 'CartScreenAppear', 0.0019))\n",
    "print(group_comparison(filtered_df, 246, 248, 'CartScreenAppear', 0.0019))\n",
    "print(group_comparison(filtered_df, 247, 248, 'CartScreenAppear', 0.0019))\n",
    "\n",
    "print(group_comparison(filtered_df, 246, 247, 'PaymentScreenSuccessful', 0.0019))\n",
    "print(group_comparison(filtered_df, 246, 248, 'PaymentScreenSuccessful', 0.0019))\n",
    "print(group_comparison(filtered_df, 247, 248, 'PaymentScreenSuccessful', 0.0019))"
   ]
  },
  {
   "cell_type": "markdown",
   "metadata": {},
   "source": [
    "Comentarios:\n",
    "1. Los resultados de igualdad entre las proporciones de las muestras indican que no existe una diferencia significativa entre el grupo experimental (248) y los grupos de control\n",
    "2. Al revisar los embudos de cada uno de los grupos se puede evidenciar que la distribución de todos es bastante similar, por lo que se considera que  los grupos se dividieron correctamente"
   ]
  },
  {
   "cell_type": "code",
   "execution_count": 18,
   "metadata": {},
   "outputs": [
    {
     "name": "stdout",
     "output_type": "stream",
     "text": [
      "\u001b[1mEmbudo de compras para el grupo 246\u001b[0m\n"
     ]
    },
    {
     "data": {
      "text/html": [
       "<div>\n",
       "<style scoped>\n",
       "    .dataframe tbody tr th:only-of-type {\n",
       "        vertical-align: middle;\n",
       "    }\n",
       "\n",
       "    .dataframe tbody tr th {\n",
       "        vertical-align: top;\n",
       "    }\n",
       "\n",
       "    .dataframe thead th {\n",
       "        text-align: right;\n",
       "    }\n",
       "</style>\n",
       "<table border=\"1\" class=\"dataframe\">\n",
       "  <thead>\n",
       "    <tr style=\"text-align: right;\">\n",
       "      <th></th>\n",
       "      <th>event</th>\n",
       "      <th>funnel_user_count (df)</th>\n",
       "      <th>stage_proportion(%) (df)</th>\n",
       "      <th>funnel_user_count (filt)</th>\n",
       "      <th>stage_proportion(%) (filt)</th>\n",
       "    </tr>\n",
       "  </thead>\n",
       "  <tbody>\n",
       "    <tr>\n",
       "      <th>0</th>\n",
       "      <td>MainScreenAppear</td>\n",
       "      <td>2456</td>\n",
       "      <td>-</td>\n",
       "      <td>2450</td>\n",
       "      <td>-</td>\n",
       "    </tr>\n",
       "    <tr>\n",
       "      <th>1</th>\n",
       "      <td>OffersScreenAppear</td>\n",
       "      <td>435</td>\n",
       "      <td>17.71</td>\n",
       "      <td>370</td>\n",
       "      <td>15.1</td>\n",
       "    </tr>\n",
       "    <tr>\n",
       "      <th>2</th>\n",
       "      <td>CartScreenAppear</td>\n",
       "      <td>69</td>\n",
       "      <td>15.86</td>\n",
       "      <td>46</td>\n",
       "      <td>12.43</td>\n",
       "    </tr>\n",
       "    <tr>\n",
       "      <th>3</th>\n",
       "      <td>PaymentScreenSuccessful</td>\n",
       "      <td>1</td>\n",
       "      <td>1.45</td>\n",
       "      <td>1</td>\n",
       "      <td>2.17</td>\n",
       "    </tr>\n",
       "  </tbody>\n",
       "</table>\n",
       "</div>"
      ],
      "text/plain": [
       "                     event  funnel_user_count (df) stage_proportion(%) (df)  \\\n",
       "0         MainScreenAppear                    2456                        -   \n",
       "1       OffersScreenAppear                     435                    17.71   \n",
       "2         CartScreenAppear                      69                    15.86   \n",
       "3  PaymentScreenSuccessful                       1                     1.45   \n",
       "\n",
       "   funnel_user_count (filt) stage_proportion(%) (filt)  \n",
       "0                      2450                          -  \n",
       "1                       370                       15.1  \n",
       "2                        46                      12.43  \n",
       "3                         1                       2.17  "
      ]
     },
     "metadata": {},
     "output_type": "display_data"
    },
    {
     "name": "stdout",
     "output_type": "stream",
     "text": [
      "\n",
      "\u001b[1mEmbudo de compras para el grupo 247\u001b[0m\n"
     ]
    },
    {
     "data": {
      "text/html": [
       "<div>\n",
       "<style scoped>\n",
       "    .dataframe tbody tr th:only-of-type {\n",
       "        vertical-align: middle;\n",
       "    }\n",
       "\n",
       "    .dataframe tbody tr th {\n",
       "        vertical-align: top;\n",
       "    }\n",
       "\n",
       "    .dataframe thead th {\n",
       "        text-align: right;\n",
       "    }\n",
       "</style>\n",
       "<table border=\"1\" class=\"dataframe\">\n",
       "  <thead>\n",
       "    <tr style=\"text-align: right;\">\n",
       "      <th></th>\n",
       "      <th>event</th>\n",
       "      <th>funnel_user_count (df)</th>\n",
       "      <th>stage_proportion(%) (df)</th>\n",
       "      <th>funnel_user_count (filt)</th>\n",
       "      <th>stage_proportion(%) (filt)</th>\n",
       "    </tr>\n",
       "  </thead>\n",
       "  <tbody>\n",
       "    <tr>\n",
       "      <th>0</th>\n",
       "      <td>MainScreenAppear</td>\n",
       "      <td>2482</td>\n",
       "      <td>-</td>\n",
       "      <td>2479</td>\n",
       "      <td>-</td>\n",
       "    </tr>\n",
       "    <tr>\n",
       "      <th>1</th>\n",
       "      <td>OffersScreenAppear</td>\n",
       "      <td>427</td>\n",
       "      <td>17.2</td>\n",
       "      <td>368</td>\n",
       "      <td>14.84</td>\n",
       "    </tr>\n",
       "    <tr>\n",
       "      <th>2</th>\n",
       "      <td>CartScreenAppear</td>\n",
       "      <td>63</td>\n",
       "      <td>14.75</td>\n",
       "      <td>48</td>\n",
       "      <td>13.04</td>\n",
       "    </tr>\n",
       "    <tr>\n",
       "      <th>3</th>\n",
       "      <td>PaymentScreenSuccessful</td>\n",
       "      <td>6</td>\n",
       "      <td>9.52</td>\n",
       "      <td>4</td>\n",
       "      <td>8.33</td>\n",
       "    </tr>\n",
       "  </tbody>\n",
       "</table>\n",
       "</div>"
      ],
      "text/plain": [
       "                     event  funnel_user_count (df) stage_proportion(%) (df)  \\\n",
       "0         MainScreenAppear                    2482                        -   \n",
       "1       OffersScreenAppear                     427                     17.2   \n",
       "2         CartScreenAppear                      63                    14.75   \n",
       "3  PaymentScreenSuccessful                       6                     9.52   \n",
       "\n",
       "   funnel_user_count (filt) stage_proportion(%) (filt)  \n",
       "0                      2479                          -  \n",
       "1                       368                      14.84  \n",
       "2                        48                      13.04  \n",
       "3                         4                       8.33  "
      ]
     },
     "metadata": {},
     "output_type": "display_data"
    },
    {
     "name": "stdout",
     "output_type": "stream",
     "text": [
      "\n",
      "\u001b[1mEmbudo de compras para el grupo 248\u001b[0m\n"
     ]
    },
    {
     "data": {
      "text/html": [
       "<div>\n",
       "<style scoped>\n",
       "    .dataframe tbody tr th:only-of-type {\n",
       "        vertical-align: middle;\n",
       "    }\n",
       "\n",
       "    .dataframe tbody tr th {\n",
       "        vertical-align: top;\n",
       "    }\n",
       "\n",
       "    .dataframe thead th {\n",
       "        text-align: right;\n",
       "    }\n",
       "</style>\n",
       "<table border=\"1\" class=\"dataframe\">\n",
       "  <thead>\n",
       "    <tr style=\"text-align: right;\">\n",
       "      <th></th>\n",
       "      <th>event</th>\n",
       "      <th>funnel_user_count (df)</th>\n",
       "      <th>stage_proportion(%) (df)</th>\n",
       "      <th>funnel_user_count (filt)</th>\n",
       "      <th>stage_proportion(%) (filt)</th>\n",
       "    </tr>\n",
       "  </thead>\n",
       "  <tbody>\n",
       "    <tr>\n",
       "      <th>0</th>\n",
       "      <td>MainScreenAppear</td>\n",
       "      <td>2501</td>\n",
       "      <td>-</td>\n",
       "      <td>2494</td>\n",
       "      <td>-</td>\n",
       "    </tr>\n",
       "    <tr>\n",
       "      <th>1</th>\n",
       "      <td>OffersScreenAppear</td>\n",
       "      <td>414</td>\n",
       "      <td>16.55</td>\n",
       "      <td>362</td>\n",
       "      <td>14.51</td>\n",
       "    </tr>\n",
       "    <tr>\n",
       "      <th>2</th>\n",
       "      <td>CartScreenAppear</td>\n",
       "      <td>59</td>\n",
       "      <td>14.25</td>\n",
       "      <td>44</td>\n",
       "      <td>12.15</td>\n",
       "    </tr>\n",
       "    <tr>\n",
       "      <th>3</th>\n",
       "      <td>PaymentScreenSuccessful</td>\n",
       "      <td>6</td>\n",
       "      <td>10.17</td>\n",
       "      <td>3</td>\n",
       "      <td>6.82</td>\n",
       "    </tr>\n",
       "  </tbody>\n",
       "</table>\n",
       "</div>"
      ],
      "text/plain": [
       "                     event  funnel_user_count (df) stage_proportion(%) (df)  \\\n",
       "0         MainScreenAppear                    2501                        -   \n",
       "1       OffersScreenAppear                     414                    16.55   \n",
       "2         CartScreenAppear                      59                    14.25   \n",
       "3  PaymentScreenSuccessful                       6                    10.17   \n",
       "\n",
       "   funnel_user_count (filt) stage_proportion(%) (filt)  \n",
       "0                      2494                          -  \n",
       "1                       362                      14.51  \n",
       "2                        44                      12.15  \n",
       "3                         3                       6.82  "
      ]
     },
     "metadata": {},
     "output_type": "display_data"
    },
    {
     "name": "stdout",
     "output_type": "stream",
     "text": [
      "\n"
     ]
    }
   ],
   "source": [
    "# Cálculo de proporciones con datos no filtrados\n",
    "\n",
    "# Comparación de resultados sin filtrar con los de cada uno de los grupos de control para cada evento\n",
    "\n",
    "def comparison(data1, data2, group):\n",
    "    group = str(group)\n",
    "    \n",
    "    users1 = data1[data1['group'] == group].pivot_table(index='user_id', \n",
    "                                                        columns='event', \n",
    "                                                        values='event_datetime',\n",
    "                                                        aggfunc='min')\n",
    "\n",
    "    step1 = ~users1['MainScreenAppear'].isna()\n",
    "    step2 = step1 & (users1['OffersScreenAppear']>users1['MainScreenAppear'])\n",
    "    step3 = step2 & (users1['CartScreenAppear']>users1['OffersScreenAppear'])\n",
    "    step4 = step3 & (users1['PaymentScreenSuccessful']>users1['CartScreenAppear'])\n",
    "\n",
    "    n_s1 = users1[step1].shape[0]\n",
    "    n_s2 = users1[step2].shape[0]\n",
    "    n_s3 = users1[step3].shape[0]\n",
    "    n_s4 = users1[step4].shape[0]\n",
    "\n",
    "    stage_data = {'event':['MainScreenAppear','OffersScreenAppear','CartScreenAppear','PaymentScreenSuccessful'],\n",
    "                  'funnel_user_count':[n_s1,n_s2,n_s3,n_s4]}\n",
    "    \n",
    "    stages1 = pd.DataFrame(data=stage_data, index=[0,1,2,3])\n",
    "    stages1['stage_proportion(%)'] = (stages1['funnel_user_count']\n",
    "                                     .map(lambda x: round(x*100/stages1[stages1['funnel_user_count']>x]['funnel_user_count'].min(),2)))\n",
    "\n",
    "    stages1.fillna('-', inplace=True)\n",
    "    \n",
    "    users2 = data2[data2['group'] == group].pivot_table(index='user_id', \n",
    "                                                        columns='event', \n",
    "                                                        values='event_datetime',\n",
    "                                                        aggfunc='min')\n",
    "\n",
    "    step1 = ~users2['MainScreenAppear'].isna()\n",
    "    step2 = step1 & (users2['OffersScreenAppear']>users2['MainScreenAppear'])\n",
    "    step3 = step2 & (users2['CartScreenAppear']>users2['OffersScreenAppear'])\n",
    "    step4 = step3 & (users2['PaymentScreenSuccessful']>users2['CartScreenAppear'])\n",
    "\n",
    "    n_s1 = users2[step1].shape[0]\n",
    "    n_s2 = users2[step2].shape[0]\n",
    "    n_s3 = users2[step3].shape[0]\n",
    "    n_s4 = users2[step4].shape[0]\n",
    "\n",
    "    stage_data = {'event':['MainScreenAppear','OffersScreenAppear','CartScreenAppear','PaymentScreenSuccessful'],\n",
    "                  'funnel_user_count':[n_s1,n_s2,n_s3,n_s4]}\n",
    "    \n",
    "    stages2 = pd.DataFrame(data=stage_data, index=[0,1,2,3])\n",
    "    stages2['stage_proportion(%)'] = (stages2['funnel_user_count']\n",
    "                                     .map(lambda x: round(x*100/stages2[stages2['funnel_user_count']>x]['funnel_user_count'].min(),2)))\n",
    "\n",
    "    stages2.fillna('-', inplace=True)\n",
    "    \n",
    "    stages = stages1.merge(stages2, on='event', suffixes=[' (df)',' (filt)'])\n",
    "    \n",
    "    print(f'\\033[1mEmbudo de compras para el grupo {group}\\033[0m')\n",
    "    return stages\n",
    "\n",
    "display(comparison(df, filtered_df, 246))\n",
    "print()\n",
    "display(comparison(df, filtered_df, 247))\n",
    "print()\n",
    "display(comparison(df, filtered_df, 248))\n",
    "print()"
   ]
  },
  {
   "cell_type": "markdown",
   "metadata": {},
   "source": [
    "Comentarios:\n",
    "1. Se puede evidenciar que el grupo 246 no presentó mayor variación entre los datos filtrados y sin filtrar\n",
    "2. Para los otros dos grupos se observa que la tasa de conversión final (Compras exitosas) se redujo practicamente a la mitad una vez que se filtraron los datos"
   ]
  },
  {
   "cell_type": "code",
   "execution_count": 19,
   "metadata": {},
   "outputs": [
    {
     "name": "stdout",
     "output_type": "stream",
     "text": [
      "--------------------------------------------------------------------------------\n",
      "Valor p para prueba de igualdad de proporciones entre los datos filtrados y sin filtrar para el grupo 246 y evento MainScreenAppear: 0.713 (71.31%)\n",
      "\n",
      "Hipótesis nula aceptada: El comportamiento de los grupos experimentales indica que no existe una diferencia significativa entre las proporciones de los datos filtrados y sin filtrar para el grupo 246 y  el evento MainScreenAppear\n",
      "None\n",
      "--------------------------------------------------------------------------------\n",
      "Valor p para prueba de igualdad de proporciones entre los datos filtrados y sin filtrar para el grupo 247 y evento MainScreenAppear: 0.643 (64.28%)\n",
      "\n",
      "Hipótesis nula aceptada: El comportamiento de los grupos experimentales indica que no existe una diferencia significativa entre las proporciones de los datos filtrados y sin filtrar para el grupo 247 y  el evento MainScreenAppear\n",
      "None\n",
      "--------------------------------------------------------------------------------\n",
      "Valor p para prueba de igualdad de proporciones entre los datos filtrados y sin filtrar para el grupo 248 y evento MainScreenAppear: 0.731 (73.12%)\n",
      "\n",
      "Hipótesis nula aceptada: El comportamiento de los grupos experimentales indica que no existe una diferencia significativa entre las proporciones de los datos filtrados y sin filtrar para el grupo 248 y  el evento MainScreenAppear\n",
      "None\n",
      "--------------------------------------------------------------------------------\n",
      "Valor p para prueba de igualdad de proporciones entre los datos filtrados y sin filtrar para el grupo 246 y evento OffersScreenAppear: 0.89 (89.01%)\n",
      "\n",
      "Hipótesis nula aceptada: El comportamiento de los grupos experimentales indica que no existe una diferencia significativa entre las proporciones de los datos filtrados y sin filtrar para el grupo 246 y  el evento OffersScreenAppear\n",
      "None\n",
      "--------------------------------------------------------------------------------\n",
      "Valor p para prueba de igualdad de proporciones entre los datos filtrados y sin filtrar para el grupo 247 y evento OffersScreenAppear: 0.921 (92.13%)\n",
      "\n",
      "Hipótesis nula aceptada: El comportamiento de los grupos experimentales indica que no existe una diferencia significativa entre las proporciones de los datos filtrados y sin filtrar para el grupo 247 y  el evento OffersScreenAppear\n",
      "None\n",
      "--------------------------------------------------------------------------------\n",
      "Valor p para prueba de igualdad de proporciones entre los datos filtrados y sin filtrar para el grupo 248 y evento OffersScreenAppear: 0.912 (91.24%)\n",
      "\n",
      "Hipótesis nula aceptada: El comportamiento de los grupos experimentales indica que no existe una diferencia significativa entre las proporciones de los datos filtrados y sin filtrar para el grupo 248 y  el evento OffersScreenAppear\n",
      "None\n",
      "--------------------------------------------------------------------------------\n",
      "Valor p para prueba de igualdad de proporciones entre los datos filtrados y sin filtrar para el grupo 246 y evento CartScreenAppear: 0.811 (81.11%)\n",
      "\n",
      "Hipótesis nula aceptada: El comportamiento de los grupos experimentales indica que no existe una diferencia significativa entre las proporciones de los datos filtrados y sin filtrar para el grupo 246 y  el evento CartScreenAppear\n",
      "None\n",
      "--------------------------------------------------------------------------------\n",
      "Valor p para prueba de igualdad de proporciones entre los datos filtrados y sin filtrar para el grupo 247 y evento CartScreenAppear: 0.696 (69.64%)\n",
      "\n",
      "Hipótesis nula aceptada: El comportamiento de los grupos experimentales indica que no existe una diferencia significativa entre las proporciones de los datos filtrados y sin filtrar para el grupo 247 y  el evento CartScreenAppear\n",
      "None\n",
      "--------------------------------------------------------------------------------\n",
      "Valor p para prueba de igualdad de proporciones entre los datos filtrados y sin filtrar para el grupo 248 y evento CartScreenAppear: 0.904 (90.39%)\n",
      "\n",
      "Hipótesis nula aceptada: El comportamiento de los grupos experimentales indica que no existe una diferencia significativa entre las proporciones de los datos filtrados y sin filtrar para el grupo 248 y  el evento CartScreenAppear\n",
      "None\n",
      "--------------------------------------------------------------------------------\n",
      "Valor p para prueba de igualdad de proporciones entre los datos filtrados y sin filtrar para el grupo 246 y evento PaymentScreenSuccessful: 0.83 (83.02%)\n",
      "\n",
      "Hipótesis nula aceptada: El comportamiento de los grupos experimentales indica que no existe una diferencia significativa entre las proporciones de los datos filtrados y sin filtrar para el grupo 246 y  el evento PaymentScreenSuccessful\n",
      "None\n",
      "--------------------------------------------------------------------------------\n",
      "Valor p para prueba de igualdad de proporciones entre los datos filtrados y sin filtrar para el grupo 247 y evento PaymentScreenSuccessful: 0.84 (83.95%)\n",
      "\n",
      "Hipótesis nula aceptada: El comportamiento de los grupos experimentales indica que no existe una diferencia significativa entre las proporciones de los datos filtrados y sin filtrar para el grupo 247 y  el evento PaymentScreenSuccessful\n",
      "None\n",
      "--------------------------------------------------------------------------------\n",
      "Valor p para prueba de igualdad de proporciones entre los datos filtrados y sin filtrar para el grupo 248 y evento PaymentScreenSuccessful: 0.869 (86.95%)\n",
      "\n",
      "Hipótesis nula aceptada: El comportamiento de los grupos experimentales indica que no existe una diferencia significativa entre las proporciones de los datos filtrados y sin filtrar para el grupo 248 y  el evento PaymentScreenSuccessful\n",
      "None\n"
     ]
    }
   ],
   "source": [
    "# Cálculo de significacncia estadística con datos no filtrados\n",
    "\n",
    "# Comparación de proporciones para eventos específicos entre datos filtrados y sin filtrar\n",
    "event_comparison_cnt = 0\n",
    "\n",
    "def event_comparison(data1, data2, group, event, alpha=0.05):\n",
    "    global event_comparison_cnt\n",
    "    event_comparison_cnt += 1    \n",
    "    \n",
    "    group = str(group)\n",
    "    \n",
    "    sample_A = (data1[(data1['group'] == group) & (data1['event'] == event)]\n",
    "                .groupby('user_id')['event'].count()\n",
    "                .reset_index(name='user_count')\n",
    "                .sort_values(by='user_count', ascending=False))\n",
    "\n",
    "    sample_B = (data2[(data2['group'] == group) & (data2['event'] == event)]\n",
    "                .groupby('user_id')['event'].count()\n",
    "                .reset_index(name='user_count')\n",
    "                .sort_values(by='user_count', ascending=False))\n",
    "\n",
    "    results = st.mannwhitneyu(sample_A['user_count'], sample_B['user_count'])\n",
    "    p_value = results.pvalue\n",
    "    \n",
    "    print('--------------------------------------------------------------------------------') \n",
    "    print(f'Valor p para prueba de igualdad de proporciones entre los datos filtrados y sin filtrar para el grupo {group} y evento {event}: {round(p_value,3)} ({round(p_value*100,2)}%)')\n",
    "    print()\n",
    "\n",
    "    if p_value < alpha:\n",
    "        print(f\"Hipótesis nula rechazada: El comportamiento de los grupos experimentales indica que existe una diferencia significativa entre las proporciones de los datos filtrados y sin filtrar para el grupo {group} y  el evento {event}\")\n",
    "    else:\n",
    "        print(f\"Hipótesis nula aceptada: El comportamiento de los grupos experimentales indica que no existe una diferencia significativa entre las proporciones de los datos filtrados y sin filtrar para el grupo {group} y  el evento {event}\")\n",
    "    return\n",
    "\n",
    "print(event_comparison(df, filtered_df, 246, 'MainScreenAppear', 0.0019))\n",
    "print(event_comparison(df, filtered_df, 247, 'MainScreenAppear', 0.0019))\n",
    "print(event_comparison(df, filtered_df, 248, 'MainScreenAppear', 0.0019))\n",
    "\n",
    "print(event_comparison(df, filtered_df, 246, 'OffersScreenAppear', 0.0019))\n",
    "print(event_comparison(df, filtered_df, 247, 'OffersScreenAppear', 0.0019))\n",
    "print(event_comparison(df, filtered_df, 248, 'OffersScreenAppear', 0.0019))\n",
    "\n",
    "print(event_comparison(df, filtered_df, 246, 'CartScreenAppear', 0.0019))\n",
    "print(event_comparison(df, filtered_df, 247, 'CartScreenAppear', 0.0019))\n",
    "print(event_comparison(df, filtered_df, 248, 'CartScreenAppear', 0.0019))\n",
    "\n",
    "print(event_comparison(df, filtered_df, 246, 'PaymentScreenSuccessful', 0.0019))\n",
    "print(event_comparison(df, filtered_df, 247, 'PaymentScreenSuccessful', 0.0019))\n",
    "print(event_comparison(df, filtered_df, 248, 'PaymentScreenSuccessful', 0.0019))"
   ]
  },
  {
   "cell_type": "code",
   "execution_count": 20,
   "metadata": {},
   "outputs": [
    {
     "name": "stdout",
     "output_type": "stream",
     "text": [
      "Nivel de significación inicial: 0.05 (5.0%)\n",
      "Total de pruebas de hipótesis realizadas: 27\n",
      "Nivel de significación corregido: 0.0019 (0.19%)\n"
     ]
    }
   ],
   "source": [
    "# Nivel de significación inicial\n",
    "alpha = 0.05\n",
    "print(f'Nivel de significación inicial: {alpha} ({alpha*100}%)')\n",
    "\n",
    "# Calcula cuántas pruebas de hipótesis estadísticas has realizado\n",
    "total_tests = stat_comparison_cnt + group_comparison_cnt + event_comparison_cnt\n",
    "\n",
    "print(f'Total de pruebas de hipótesis realizadas: {total_tests}')\n",
    "\n",
    "# Nivel de significación corregido \n",
    "corrected_alpha = alpha/total_tests\n",
    "print(f'Nivel de significación corregido: {round(corrected_alpha,4)} ({round(corrected_alpha*100,2)}%)')"
   ]
  },
  {
   "cell_type": "markdown",
   "metadata": {},
   "source": [
    "# Conclusiones Generales\n",
    "1. Es importante mencionar que el análisis de los resultados de las pruebas indica que los datos parecen estar bien distribuídos y las muestras bien separadas, por lo cual se considera que el experimento es válido\n",
    "2. Al ver la distribución de los datos a lo alrgo de la prueba se pudo evidenciar que a partir del día 7 se evidenció un claro comportamiento por parte de los usuarios, por lo que se consideró relevante la información después de dicho periodo (a partir de 2019-07-31 a las 22:00)\n",
    "3. Tras filtrar los datos, se identificó una disminución de 2222 eventos y se desconsideraron 13 usuarios. Sin embargo, el promedio de eventos por usuario se redujo de 20 a 19 una vez filtrados los datos, lo cual indica que dichos usuarios no representaban un impacto significativo en el desarrollo de la prueba\n",
    "4. Tras comparar la tasa de conversión final (usuarios que realizaron compras) de los datos filtrados y sin filtrar, se evidenció que la cantidad de usuarios se reduce practicamente a la mitad para los grupos 247 y 248, pasando de 6 a 4 y 6 a 3 compras exitosas respectivamente\n",
    "5. Del análisis anterior se logró identificar que el grupo 246 mostró un rendimiento inferior tanto con los datos filtrados como sin filtrar (1 compra exitosa en ambos casos), incluso cuando los volumenes de tráfico en cada etapa se mantuvieron todo el tiempo dentro de los mismos rangos que los de las otras muestras. Se considera relevante poder realizar un análisis posterior para identificar los motivos de dicho resultado\n",
    "6. Debido a la gran cantidad de pruebas de hipótesis que se realizaron (27), se optó por utilizar un nivel de sifnificación de 0.0019, con lo cuál el nivel en conjunto de todas las pruebas será de 0.05\n",
    "7. Tras realizar la comparación de proporciones para eventos específicos entre datos filtrados y sin filtrar, así como la comparación de proporciones para eventos específicos entre grupos, se logró evidenciar que ninguna de las combinaciones representa una diferencia significativa entre los diferentes grupos experimentales\n",
    "8. Basado en lo anterior y como conclusión final, se considera que el cambio de fuentes involucrado en el grupo 248 no representa un impacto significativo en los niveles de conversión ni en los volumenes de tráfico, por lo cual se indica que si las fuentes utilizadas en este son aprobadas por los diferentes departamentos de la companía sus impactos no van a representar mayor diferencia respecto a los resultados a los producidos actualmente"
   ]
  }
 ],
 "metadata": {
  "ExecuteTimeLog": [
   {
    "duration": 2499,
    "start_time": "2025-02-25T00:35:21.191Z"
   },
   {
    "duration": 258,
    "start_time": "2025-02-25T00:35:41.880Z"
   },
   {
    "duration": 121,
    "start_time": "2025-02-25T00:35:56.733Z"
   },
   {
    "duration": 7,
    "start_time": "2025-02-25T00:42:58.654Z"
   },
   {
    "duration": 8,
    "start_time": "2025-02-25T00:43:42.645Z"
   },
   {
    "duration": 7,
    "start_time": "2025-02-25T00:45:11.401Z"
   },
   {
    "duration": 8,
    "start_time": "2025-02-25T00:45:15.465Z"
   },
   {
    "duration": 9,
    "start_time": "2025-02-25T00:46:24.665Z"
   },
   {
    "duration": 757,
    "start_time": "2025-02-25T00:46:35.467Z"
   },
   {
    "duration": 119,
    "start_time": "2025-02-25T00:46:36.226Z"
   },
   {
    "duration": 7,
    "start_time": "2025-02-25T00:46:36.347Z"
   },
   {
    "duration": 225,
    "start_time": "2025-02-25T00:48:22.883Z"
   },
   {
    "duration": 32,
    "start_time": "2025-02-25T00:48:29.387Z"
   },
   {
    "duration": 34,
    "start_time": "2025-02-25T00:49:05.402Z"
   },
   {
    "duration": 33,
    "start_time": "2025-02-25T00:49:15.625Z"
   },
   {
    "duration": 593,
    "start_time": "2025-02-25T00:51:31.711Z"
   },
   {
    "duration": 11,
    "start_time": "2025-02-25T00:51:44.960Z"
   },
   {
    "duration": 125,
    "start_time": "2025-02-25T00:51:50.180Z"
   },
   {
    "duration": 82,
    "start_time": "2025-02-25T00:52:04.884Z"
   },
   {
    "duration": 11,
    "start_time": "2025-02-25T00:52:18.267Z"
   },
   {
    "duration": 30,
    "start_time": "2025-02-25T00:52:40.506Z"
   },
   {
    "duration": 65,
    "start_time": "2025-02-25T00:52:57.162Z"
   },
   {
    "duration": 47,
    "start_time": "2025-02-25T00:53:06.588Z"
   },
   {
    "duration": 49,
    "start_time": "2025-02-25T00:53:10.888Z"
   },
   {
    "duration": 54,
    "start_time": "2025-02-25T00:53:35.187Z"
   },
   {
    "duration": 57,
    "start_time": "2025-02-25T00:53:53.225Z"
   },
   {
    "duration": 54,
    "start_time": "2025-02-25T00:54:14.644Z"
   },
   {
    "duration": 58,
    "start_time": "2025-02-25T00:57:21.005Z"
   },
   {
    "duration": 61,
    "start_time": "2025-02-25T00:58:53.980Z"
   },
   {
    "duration": 5,
    "start_time": "2025-02-25T00:59:07.925Z"
   },
   {
    "duration": 67,
    "start_time": "2025-02-25T00:59:11.010Z"
   },
   {
    "duration": 737,
    "start_time": "2025-02-25T00:59:21.808Z"
   },
   {
    "duration": 122,
    "start_time": "2025-02-25T00:59:22.547Z"
   },
   {
    "duration": 262,
    "start_time": "2025-02-25T00:59:22.671Z"
   },
   {
    "duration": 52,
    "start_time": "2025-02-25T00:59:33.786Z"
   },
   {
    "duration": 51,
    "start_time": "2025-02-25T00:59:57.842Z"
   },
   {
    "duration": 90,
    "start_time": "2025-02-25T01:00:51.783Z"
   },
   {
    "duration": 90,
    "start_time": "2025-02-25T01:01:04.560Z"
   },
   {
    "duration": 94,
    "start_time": "2025-02-25T01:01:14.120Z"
   },
   {
    "duration": 90,
    "start_time": "2025-02-25T01:01:50.816Z"
   },
   {
    "duration": 86,
    "start_time": "2025-02-25T01:02:06.379Z"
   },
   {
    "duration": 126,
    "start_time": "2025-02-25T01:02:57.702Z"
   },
   {
    "duration": 730,
    "start_time": "2025-02-25T01:03:04.558Z"
   },
   {
    "duration": 124,
    "start_time": "2025-02-25T01:03:05.291Z"
   },
   {
    "duration": 140,
    "start_time": "2025-02-25T01:03:05.417Z"
   },
   {
    "duration": 272,
    "start_time": "2025-02-25T01:06:29.595Z"
   },
   {
    "duration": 322,
    "start_time": "2025-02-25T01:07:02.625Z"
   },
   {
    "duration": 369,
    "start_time": "2025-02-25T01:08:01.189Z"
   },
   {
    "duration": 627,
    "start_time": "2025-02-25T01:08:15.397Z"
   },
   {
    "duration": 249,
    "start_time": "2025-02-25T01:08:45.383Z"
   },
   {
    "duration": 743,
    "start_time": "2025-02-25T01:09:04.590Z"
   },
   {
    "duration": 123,
    "start_time": "2025-02-25T01:09:05.336Z"
   },
   {
    "duration": 719,
    "start_time": "2025-02-25T01:09:05.461Z"
   },
   {
    "duration": 263,
    "start_time": "2025-02-25T01:09:58.679Z"
   },
   {
    "duration": 527,
    "start_time": "2025-02-25T01:10:08.118Z"
   },
   {
    "duration": 3,
    "start_time": "2025-02-25T01:14:24.326Z"
   },
   {
    "duration": 7,
    "start_time": "2025-02-25T01:14:32.555Z"
   },
   {
    "duration": 3,
    "start_time": "2025-02-25T01:14:38.021Z"
   },
   {
    "duration": 410,
    "start_time": "2025-02-25T01:15:36.107Z"
   },
   {
    "duration": 18,
    "start_time": "2025-02-25T01:15:52.526Z"
   },
   {
    "duration": 119,
    "start_time": "2025-02-25T01:16:05.189Z"
   },
   {
    "duration": 18,
    "start_time": "2025-02-25T01:16:38.756Z"
   },
   {
    "duration": 506,
    "start_time": "2025-02-25T01:21:07.029Z"
   },
   {
    "duration": 486,
    "start_time": "2025-02-25T01:21:13.926Z"
   },
   {
    "duration": 486,
    "start_time": "2025-02-25T01:21:52.000Z"
   },
   {
    "duration": 1043,
    "start_time": "2025-02-25T01:23:27.157Z"
   },
   {
    "duration": 1021,
    "start_time": "2025-02-25T01:23:52.930Z"
   },
   {
    "duration": 841,
    "start_time": "2025-02-25T01:24:34.459Z"
   },
   {
    "duration": 864,
    "start_time": "2025-02-25T01:24:42.580Z"
   },
   {
    "duration": 770,
    "start_time": "2025-02-25T01:25:51.767Z"
   },
   {
    "duration": 122,
    "start_time": "2025-02-25T01:25:52.540Z"
   },
   {
    "duration": 1052,
    "start_time": "2025-02-25T01:25:52.665Z"
   },
   {
    "duration": 736,
    "start_time": "2025-02-25T01:26:23.902Z"
   },
   {
    "duration": 118,
    "start_time": "2025-02-25T01:26:24.640Z"
   },
   {
    "duration": 991,
    "start_time": "2025-02-25T01:26:24.760Z"
   },
   {
    "duration": 877,
    "start_time": "2025-02-25T01:27:34.776Z"
   },
   {
    "duration": 737,
    "start_time": "2025-02-25T01:27:43.716Z"
   },
   {
    "duration": 121,
    "start_time": "2025-02-25T01:27:44.456Z"
   },
   {
    "duration": 1031,
    "start_time": "2025-02-25T01:27:44.579Z"
   },
   {
    "duration": 24,
    "start_time": "2025-02-25T01:34:22.732Z"
   },
   {
    "duration": 5,
    "start_time": "2025-02-25T01:35:33.930Z"
   },
   {
    "duration": 818,
    "start_time": "2025-02-25T01:36:06.020Z"
   },
   {
    "duration": 122,
    "start_time": "2025-02-25T01:36:06.840Z"
   },
   {
    "duration": 1086,
    "start_time": "2025-02-25T01:36:06.963Z"
   },
   {
    "duration": 3,
    "start_time": "2025-02-25T01:36:08.052Z"
   },
   {
    "duration": 0,
    "start_time": "2025-02-25T01:36:08.057Z"
   },
   {
    "duration": 0,
    "start_time": "2025-02-25T01:36:08.058Z"
   },
   {
    "duration": 0,
    "start_time": "2025-02-25T01:36:08.059Z"
   },
   {
    "duration": 0,
    "start_time": "2025-02-25T01:36:08.060Z"
   },
   {
    "duration": 0,
    "start_time": "2025-02-25T01:36:08.061Z"
   },
   {
    "duration": 4,
    "start_time": "2025-02-25T01:36:17.937Z"
   },
   {
    "duration": 36,
    "start_time": "2025-02-25T01:36:48.242Z"
   },
   {
    "duration": 36,
    "start_time": "2025-02-25T01:36:53.139Z"
   },
   {
    "duration": 26,
    "start_time": "2025-02-25T01:37:36.097Z"
   },
   {
    "duration": 42,
    "start_time": "2025-02-25T01:39:26.966Z"
   },
   {
    "duration": 31,
    "start_time": "2025-02-25T01:41:00.383Z"
   },
   {
    "duration": 32,
    "start_time": "2025-02-25T01:41:28.118Z"
   },
   {
    "duration": 32,
    "start_time": "2025-02-25T01:41:45.200Z"
   },
   {
    "duration": 31,
    "start_time": "2025-02-25T01:42:04.166Z"
   },
   {
    "duration": 30,
    "start_time": "2025-02-25T01:42:21.119Z"
   },
   {
    "duration": 35,
    "start_time": "2025-02-25T01:42:26.711Z"
   },
   {
    "duration": 18783,
    "start_time": "2025-02-25T01:42:45.756Z"
   },
   {
    "duration": 789,
    "start_time": "2025-02-25T01:43:10.750Z"
   },
   {
    "duration": 121,
    "start_time": "2025-02-25T01:43:11.543Z"
   },
   {
    "duration": 1014,
    "start_time": "2025-02-25T01:43:11.667Z"
   },
   {
    "duration": 50,
    "start_time": "2025-02-25T01:43:12.683Z"
   },
   {
    "duration": 25,
    "start_time": "2025-02-25T01:43:12.735Z"
   },
   {
    "duration": 248,
    "start_time": "2025-02-25T01:43:12.762Z"
   },
   {
    "duration": 3,
    "start_time": "2025-02-25T01:43:13.012Z"
   },
   {
    "duration": 3,
    "start_time": "2025-02-25T01:43:13.016Z"
   },
   {
    "duration": 3,
    "start_time": "2025-02-25T01:43:13.021Z"
   },
   {
    "duration": 136,
    "start_time": "2025-02-25T01:43:26.782Z"
   },
   {
    "duration": 136,
    "start_time": "2025-02-25T01:43:56.075Z"
   },
   {
    "duration": 33,
    "start_time": "2025-02-25T01:44:22.455Z"
   },
   {
    "duration": 32,
    "start_time": "2025-02-25T01:44:30.110Z"
   },
   {
    "duration": 38,
    "start_time": "2025-02-25T01:44:37.866Z"
   },
   {
    "duration": 33,
    "start_time": "2025-02-25T01:44:50.856Z"
   },
   {
    "duration": 34,
    "start_time": "2025-02-25T01:44:56.307Z"
   },
   {
    "duration": 33,
    "start_time": "2025-02-25T01:47:18.559Z"
   },
   {
    "duration": 619,
    "start_time": "2025-02-25T01:48:56.418Z"
   },
   {
    "duration": 6,
    "start_time": "2025-02-25T01:49:15.183Z"
   },
   {
    "duration": 15,
    "start_time": "2025-02-25T01:50:25.412Z"
   },
   {
    "duration": 17,
    "start_time": "2025-02-25T01:50:41.257Z"
   },
   {
    "duration": 6,
    "start_time": "2025-02-25T01:50:50.963Z"
   },
   {
    "duration": 6,
    "start_time": "2025-02-25T01:51:17.742Z"
   },
   {
    "duration": 6,
    "start_time": "2025-02-25T01:51:38.152Z"
   },
   {
    "duration": 790,
    "start_time": "2025-02-25T01:52:29.277Z"
   },
   {
    "duration": 122,
    "start_time": "2025-02-25T01:52:30.070Z"
   },
   {
    "duration": 1006,
    "start_time": "2025-02-25T01:52:30.194Z"
   },
   {
    "duration": 42,
    "start_time": "2025-02-25T01:52:31.209Z"
   },
   {
    "duration": 25,
    "start_time": "2025-02-25T01:52:31.254Z"
   },
   {
    "duration": 46,
    "start_time": "2025-02-25T01:52:31.281Z"
   },
   {
    "duration": 4,
    "start_time": "2025-02-25T01:52:31.328Z"
   },
   {
    "duration": 0,
    "start_time": "2025-02-25T01:52:31.334Z"
   },
   {
    "duration": 0,
    "start_time": "2025-02-25T01:52:31.335Z"
   },
   {
    "duration": 6,
    "start_time": "2025-02-25T01:52:37.502Z"
   },
   {
    "duration": 4,
    "start_time": "2025-02-25T01:53:15.094Z"
   },
   {
    "duration": 6,
    "start_time": "2025-02-25T01:53:39.516Z"
   },
   {
    "duration": 714,
    "start_time": "2025-02-25T01:54:05.171Z"
   },
   {
    "duration": 121,
    "start_time": "2025-02-25T01:54:05.888Z"
   },
   {
    "duration": 998,
    "start_time": "2025-02-25T01:54:06.012Z"
   },
   {
    "duration": 42,
    "start_time": "2025-02-25T01:54:07.011Z"
   },
   {
    "duration": 25,
    "start_time": "2025-02-25T01:54:07.055Z"
   },
   {
    "duration": 57,
    "start_time": "2025-02-25T01:54:07.081Z"
   },
   {
    "duration": 6,
    "start_time": "2025-02-25T01:54:07.141Z"
   },
   {
    "duration": 2,
    "start_time": "2025-02-25T01:54:07.149Z"
   },
   {
    "duration": 2,
    "start_time": "2025-02-25T01:54:07.153Z"
   },
   {
    "duration": 214,
    "start_time": "2025-02-25T01:54:56.347Z"
   },
   {
    "duration": 15,
    "start_time": "2025-02-25T01:55:09.221Z"
   },
   {
    "duration": 6,
    "start_time": "2025-02-25T01:55:17.323Z"
   },
   {
    "duration": 29,
    "start_time": "2025-02-25T01:55:39.644Z"
   },
   {
    "duration": 23,
    "start_time": "2025-02-25T01:55:46.091Z"
   },
   {
    "duration": 65,
    "start_time": "2025-02-25T01:56:26.785Z"
   },
   {
    "duration": 6,
    "start_time": "2025-02-25T01:56:39.376Z"
   },
   {
    "duration": 6,
    "start_time": "2025-02-25T01:57:05.162Z"
   },
   {
    "duration": 18,
    "start_time": "2025-02-25T01:57:26.790Z"
   },
   {
    "duration": 5,
    "start_time": "2025-02-25T01:57:41.744Z"
   },
   {
    "duration": 5,
    "start_time": "2025-02-25T01:58:09.760Z"
   },
   {
    "duration": 16,
    "start_time": "2025-02-25T01:58:29.237Z"
   },
   {
    "duration": 6,
    "start_time": "2025-02-25T01:58:40.015Z"
   },
   {
    "duration": 6,
    "start_time": "2025-02-25T01:59:04.014Z"
   },
   {
    "duration": 5,
    "start_time": "2025-02-25T01:59:46.393Z"
   },
   {
    "duration": 665,
    "start_time": "2025-02-25T02:00:25.418Z"
   },
   {
    "duration": 788,
    "start_time": "2025-02-25T02:00:36.440Z"
   },
   {
    "duration": 128,
    "start_time": "2025-02-25T02:00:37.231Z"
   },
   {
    "duration": 1110,
    "start_time": "2025-02-25T02:00:37.360Z"
   },
   {
    "duration": 1,
    "start_time": "2025-02-25T02:00:38.472Z"
   },
   {
    "duration": 0,
    "start_time": "2025-02-25T02:00:38.474Z"
   },
   {
    "duration": 0,
    "start_time": "2025-02-25T02:00:38.475Z"
   },
   {
    "duration": 0,
    "start_time": "2025-02-25T02:00:38.476Z"
   },
   {
    "duration": 0,
    "start_time": "2025-02-25T02:00:38.477Z"
   },
   {
    "duration": 0,
    "start_time": "2025-02-25T02:00:38.478Z"
   },
   {
    "duration": 1380,
    "start_time": "2025-02-25T02:01:00.317Z"
   },
   {
    "duration": 978,
    "start_time": "2025-02-25T02:01:15.532Z"
   },
   {
    "duration": 673,
    "start_time": "2025-02-25T02:02:18.910Z"
   },
   {
    "duration": 737,
    "start_time": "2025-02-25T02:02:25.608Z"
   },
   {
    "duration": 124,
    "start_time": "2025-02-25T02:02:26.348Z"
   },
   {
    "duration": 1419,
    "start_time": "2025-02-25T02:02:26.474Z"
   },
   {
    "duration": 0,
    "start_time": "2025-02-25T02:02:27.895Z"
   },
   {
    "duration": 0,
    "start_time": "2025-02-25T02:02:27.896Z"
   },
   {
    "duration": 0,
    "start_time": "2025-02-25T02:02:27.897Z"
   },
   {
    "duration": 0,
    "start_time": "2025-02-25T02:02:27.909Z"
   },
   {
    "duration": 0,
    "start_time": "2025-02-25T02:02:27.911Z"
   },
   {
    "duration": 0,
    "start_time": "2025-02-25T02:02:27.912Z"
   },
   {
    "duration": 1015,
    "start_time": "2025-02-25T02:02:41.347Z"
   },
   {
    "duration": 704,
    "start_time": "2025-02-25T02:06:27.453Z"
   },
   {
    "duration": 717,
    "start_time": "2025-02-25T02:06:33.965Z"
   },
   {
    "duration": 127,
    "start_time": "2025-02-25T02:06:34.686Z"
   },
   {
    "duration": 1085,
    "start_time": "2025-02-25T02:06:34.815Z"
   },
   {
    "duration": 43,
    "start_time": "2025-02-25T02:06:35.909Z"
   },
   {
    "duration": 25,
    "start_time": "2025-02-25T02:06:35.956Z"
   },
   {
    "duration": 43,
    "start_time": "2025-02-25T02:06:35.983Z"
   },
   {
    "duration": 5,
    "start_time": "2025-02-25T02:06:36.028Z"
   },
   {
    "duration": 3,
    "start_time": "2025-02-25T02:06:36.034Z"
   },
   {
    "duration": 2,
    "start_time": "2025-02-25T02:06:36.039Z"
   },
   {
    "duration": 231,
    "start_time": "2025-02-25T02:07:23.562Z"
   },
   {
    "duration": 7,
    "start_time": "2025-02-25T02:07:27.553Z"
   },
   {
    "duration": 4,
    "start_time": "2025-02-25T02:07:41.250Z"
   },
   {
    "duration": 7,
    "start_time": "2025-02-25T02:07:44.821Z"
   },
   {
    "duration": 289,
    "start_time": "2025-02-25T02:08:49.324Z"
   },
   {
    "duration": 64,
    "start_time": "2025-02-25T02:09:17.026Z"
   },
   {
    "duration": 345,
    "start_time": "2025-02-25T02:09:48.854Z"
   },
   {
    "duration": 760,
    "start_time": "2025-02-25T02:10:04.257Z"
   },
   {
    "duration": 8,
    "start_time": "2025-02-25T02:10:49.262Z"
   },
   {
    "duration": 118,
    "start_time": "2025-02-25T02:11:34.968Z"
   },
   {
    "duration": 113,
    "start_time": "2025-02-25T02:11:44.306Z"
   },
   {
    "duration": 117,
    "start_time": "2025-02-25T02:12:27.485Z"
   },
   {
    "duration": 790,
    "start_time": "2025-02-25T02:13:03.651Z"
   },
   {
    "duration": 124,
    "start_time": "2025-02-25T02:13:04.444Z"
   },
   {
    "duration": 1054,
    "start_time": "2025-02-25T02:13:04.570Z"
   },
   {
    "duration": 41,
    "start_time": "2025-02-25T02:13:05.626Z"
   },
   {
    "duration": 43,
    "start_time": "2025-02-25T02:13:05.669Z"
   },
   {
    "duration": 30,
    "start_time": "2025-02-25T02:13:05.715Z"
   },
   {
    "duration": 147,
    "start_time": "2025-02-25T02:13:05.747Z"
   },
   {
    "duration": 2,
    "start_time": "2025-02-25T02:13:05.896Z"
   },
   {
    "duration": 12,
    "start_time": "2025-02-25T02:13:05.899Z"
   },
   {
    "duration": 750,
    "start_time": "2025-02-25T02:13:42.493Z"
   },
   {
    "duration": 127,
    "start_time": "2025-02-25T02:13:43.246Z"
   },
   {
    "duration": 1026,
    "start_time": "2025-02-25T02:13:43.375Z"
   },
   {
    "duration": 51,
    "start_time": "2025-02-25T02:13:44.408Z"
   },
   {
    "duration": 31,
    "start_time": "2025-02-25T02:13:44.461Z"
   },
   {
    "duration": 45,
    "start_time": "2025-02-25T02:13:44.494Z"
   },
   {
    "duration": 148,
    "start_time": "2025-02-25T02:13:44.541Z"
   },
   {
    "duration": 2,
    "start_time": "2025-02-25T02:13:44.692Z"
   },
   {
    "duration": 12,
    "start_time": "2025-02-25T02:13:44.696Z"
   },
   {
    "duration": 893,
    "start_time": "2025-02-25T02:15:28.869Z"
   },
   {
    "duration": 153,
    "start_time": "2025-02-25T02:15:33.425Z"
   },
   {
    "duration": 11,
    "start_time": "2025-02-25T02:16:11.965Z"
   },
   {
    "duration": 10,
    "start_time": "2025-02-25T02:16:18.596Z"
   },
   {
    "duration": 3641,
    "start_time": "2025-02-25T02:16:34.457Z"
   },
   {
    "duration": 4126,
    "start_time": "2025-02-25T02:18:47.619Z"
   },
   {
    "duration": 236,
    "start_time": "2025-02-25T02:19:26.957Z"
   },
   {
    "duration": 9,
    "start_time": "2025-02-25T02:22:54.862Z"
   },
   {
    "duration": 3748,
    "start_time": "2025-02-25T02:24:03.879Z"
   },
   {
    "duration": 3845,
    "start_time": "2025-02-25T02:24:22.872Z"
   },
   {
    "duration": 848,
    "start_time": "2025-02-25T02:25:17.382Z"
   },
   {
    "duration": 1089,
    "start_time": "2025-02-25T02:25:42.160Z"
   },
   {
    "duration": 809,
    "start_time": "2025-02-25T02:25:58.953Z"
   },
   {
    "duration": 3604,
    "start_time": "2025-02-25T02:26:19.622Z"
   },
   {
    "duration": 866,
    "start_time": "2025-02-25T02:26:43.416Z"
   },
   {
    "duration": 683,
    "start_time": "2025-02-25T02:27:09.615Z"
   },
   {
    "duration": 742,
    "start_time": "2025-02-25T02:29:22.746Z"
   },
   {
    "duration": 5,
    "start_time": "2025-02-25T02:32:03.563Z"
   },
   {
    "duration": 919,
    "start_time": "2025-02-25T02:32:36.565Z"
   },
   {
    "duration": 753,
    "start_time": "2025-02-25T02:33:11.083Z"
   },
   {
    "duration": 874,
    "start_time": "2025-02-25T02:34:08.102Z"
   },
   {
    "duration": 728,
    "start_time": "2025-02-25T02:34:29.467Z"
   },
   {
    "duration": 864,
    "start_time": "2025-02-25T02:34:57.824Z"
   },
   {
    "duration": 708,
    "start_time": "2025-02-25T02:35:10.070Z"
   },
   {
    "duration": 3867,
    "start_time": "2025-02-25T02:35:34.772Z"
   },
   {
    "duration": 2461,
    "start_time": "2025-02-26T00:49:28.504Z"
   },
   {
    "duration": 148,
    "start_time": "2025-02-26T00:49:30.967Z"
   },
   {
    "duration": 1009,
    "start_time": "2025-02-26T00:49:31.118Z"
   },
   {
    "duration": 43,
    "start_time": "2025-02-26T00:49:32.130Z"
   },
   {
    "duration": 24,
    "start_time": "2025-02-26T00:49:32.174Z"
   },
   {
    "duration": 51,
    "start_time": "2025-02-26T00:49:32.201Z"
   },
   {
    "duration": 3691,
    "start_time": "2025-02-26T00:49:32.254Z"
   },
   {
    "duration": 2,
    "start_time": "2025-02-26T00:49:35.947Z"
   },
   {
    "duration": 3,
    "start_time": "2025-02-26T00:49:35.951Z"
   },
   {
    "duration": 1379,
    "start_time": "2025-02-26T00:52:12.679Z"
   },
   {
    "duration": 1167,
    "start_time": "2025-02-26T00:52:39.553Z"
   },
   {
    "duration": 3746,
    "start_time": "2025-02-26T00:53:27.411Z"
   },
   {
    "duration": 1087,
    "start_time": "2025-02-26T00:53:54.017Z"
   },
   {
    "duration": 693,
    "start_time": "2025-02-26T00:54:10.625Z"
   },
   {
    "duration": 257,
    "start_time": "2025-02-26T00:58:58.447Z"
   },
   {
    "duration": 38,
    "start_time": "2025-02-26T00:59:17.244Z"
   },
   {
    "duration": 37,
    "start_time": "2025-02-26T00:59:33.646Z"
   },
   {
    "duration": 36,
    "start_time": "2025-02-26T00:59:40.352Z"
   },
   {
    "duration": 9,
    "start_time": "2025-02-26T00:59:56.104Z"
   },
   {
    "duration": 9,
    "start_time": "2025-02-26T01:00:02.471Z"
   },
   {
    "duration": 11,
    "start_time": "2025-02-26T01:00:12.819Z"
   },
   {
    "duration": 493,
    "start_time": "2025-02-26T01:01:12.934Z"
   },
   {
    "duration": 50,
    "start_time": "2025-02-26T01:01:22.905Z"
   },
   {
    "duration": 738,
    "start_time": "2025-02-26T01:01:39.719Z"
   },
   {
    "duration": 122,
    "start_time": "2025-02-26T01:01:40.460Z"
   },
   {
    "duration": 1005,
    "start_time": "2025-02-26T01:01:40.585Z"
   },
   {
    "duration": 51,
    "start_time": "2025-02-26T01:01:41.593Z"
   },
   {
    "duration": 27,
    "start_time": "2025-02-26T01:01:41.646Z"
   },
   {
    "duration": 49,
    "start_time": "2025-02-26T01:01:41.675Z"
   },
   {
    "duration": 666,
    "start_time": "2025-02-26T01:01:41.727Z"
   },
   {
    "duration": 0,
    "start_time": "2025-02-26T01:01:42.395Z"
   },
   {
    "duration": 0,
    "start_time": "2025-02-26T01:01:42.396Z"
   },
   {
    "duration": 14,
    "start_time": "2025-02-26T01:02:33.230Z"
   },
   {
    "duration": 48,
    "start_time": "2025-02-26T01:02:47.329Z"
   },
   {
    "duration": 142,
    "start_time": "2025-02-26T01:02:58.870Z"
   },
   {
    "duration": 13,
    "start_time": "2025-02-26T01:03:14.321Z"
   },
   {
    "duration": 24,
    "start_time": "2025-02-26T01:04:44.486Z"
   },
   {
    "duration": 232,
    "start_time": "2025-02-26T01:05:59.018Z"
   },
   {
    "duration": 2609,
    "start_time": "2025-02-26T01:06:24.057Z"
   },
   {
    "duration": 47,
    "start_time": "2025-02-26T01:06:33.621Z"
   },
   {
    "duration": 2603,
    "start_time": "2025-02-26T01:06:45.514Z"
   },
   {
    "duration": 2731,
    "start_time": "2025-02-26T01:07:07.010Z"
   },
   {
    "duration": 2689,
    "start_time": "2025-02-26T01:07:22.567Z"
   },
   {
    "duration": 1140,
    "start_time": "2025-02-26T01:09:13.823Z"
   },
   {
    "duration": 778,
    "start_time": "2025-02-26T01:09:22.722Z"
   },
   {
    "duration": 681,
    "start_time": "2025-02-26T01:11:02.898Z"
   },
   {
    "duration": 856,
    "start_time": "2025-02-26T01:11:26.272Z"
   },
   {
    "duration": 696,
    "start_time": "2025-02-26T01:11:34.434Z"
   },
   {
    "duration": 894,
    "start_time": "2025-02-26T01:11:53.783Z"
   },
   {
    "duration": 693,
    "start_time": "2025-02-26T01:12:01.871Z"
   },
   {
    "duration": 685,
    "start_time": "2025-02-26T01:12:09.623Z"
   },
   {
    "duration": 760,
    "start_time": "2025-02-26T01:12:23.127Z"
   },
   {
    "duration": 2545,
    "start_time": "2025-02-26T01:12:53.747Z"
   },
   {
    "duration": 798,
    "start_time": "2025-02-26T01:13:54.420Z"
   },
   {
    "duration": 582,
    "start_time": "2025-02-26T01:15:23.812Z"
   },
   {
    "duration": 819,
    "start_time": "2025-02-26T01:15:35.664Z"
   },
   {
    "duration": 608,
    "start_time": "2025-02-26T01:15:48.900Z"
   },
   {
    "duration": 750,
    "start_time": "2025-02-26T01:15:59.592Z"
   },
   {
    "duration": 677,
    "start_time": "2025-02-26T01:16:53.001Z"
   },
   {
    "duration": 777,
    "start_time": "2025-02-26T01:18:28.742Z"
   },
   {
    "duration": 627,
    "start_time": "2025-02-26T01:19:04.976Z"
   },
   {
    "duration": 832,
    "start_time": "2025-02-26T01:20:55.824Z"
   },
   {
    "duration": 689,
    "start_time": "2025-02-26T01:21:25.339Z"
   },
   {
    "duration": 705,
    "start_time": "2025-02-26T01:22:26.938Z"
   },
   {
    "duration": 860,
    "start_time": "2025-02-26T01:22:47.024Z"
   },
   {
    "duration": 708,
    "start_time": "2025-02-26T01:23:24.649Z"
   },
   {
    "duration": 1285,
    "start_time": "2025-02-26T01:23:38.841Z"
   },
   {
    "duration": 1357,
    "start_time": "2025-02-26T01:24:44.293Z"
   },
   {
    "duration": 1369,
    "start_time": "2025-02-26T01:25:13.580Z"
   },
   {
    "duration": 1342,
    "start_time": "2025-02-26T01:26:02.958Z"
   },
   {
    "duration": 1108,
    "start_time": "2025-02-26T01:27:38.558Z"
   },
   {
    "duration": 1275,
    "start_time": "2025-02-26T01:27:49.941Z"
   },
   {
    "duration": 1272,
    "start_time": "2025-02-26T01:28:01.411Z"
   },
   {
    "duration": 1067,
    "start_time": "2025-02-26T01:28:42.465Z"
   },
   {
    "duration": 1302,
    "start_time": "2025-02-26T01:28:59.968Z"
   },
   {
    "duration": 1258,
    "start_time": "2025-02-26T01:29:10.535Z"
   },
   {
    "duration": 1282,
    "start_time": "2025-02-26T01:29:21.428Z"
   },
   {
    "duration": 1081,
    "start_time": "2025-02-26T01:29:48.317Z"
   },
   {
    "duration": 1224,
    "start_time": "2025-02-26T01:30:10.880Z"
   },
   {
    "duration": 1225,
    "start_time": "2025-02-26T01:30:43.168Z"
   },
   {
    "duration": 1083,
    "start_time": "2025-02-26T01:31:00.732Z"
   },
   {
    "duration": 837,
    "start_time": "2025-02-26T01:31:45.390Z"
   },
   {
    "duration": 664,
    "start_time": "2025-02-26T01:32:07.892Z"
   },
   {
    "duration": 654,
    "start_time": "2025-02-26T01:32:20.058Z"
   },
   {
    "duration": 2813,
    "start_time": "2025-02-26T01:32:45.029Z"
   },
   {
    "duration": 2817,
    "start_time": "2025-02-26T01:32:59.076Z"
   },
   {
    "duration": 644,
    "start_time": "2025-02-26T01:33:11.616Z"
   },
   {
    "duration": 1256,
    "start_time": "2025-02-26T01:33:34.908Z"
   },
   {
    "duration": 3014,
    "start_time": "2025-02-26T01:34:35.753Z"
   },
   {
    "duration": 82,
    "start_time": "2025-02-26T01:41:51.212Z"
   },
   {
    "duration": 89,
    "start_time": "2025-02-26T01:42:20.302Z"
   },
   {
    "duration": 89,
    "start_time": "2025-02-26T01:42:35.276Z"
   },
   {
    "duration": 51,
    "start_time": "2025-02-26T01:42:42.033Z"
   },
   {
    "duration": 70,
    "start_time": "2025-02-26T01:42:54.556Z"
   },
   {
    "duration": 72,
    "start_time": "2025-02-26T01:43:18.423Z"
   },
   {
    "duration": 57,
    "start_time": "2025-02-26T01:43:29.094Z"
   },
   {
    "duration": 64,
    "start_time": "2025-02-26T01:44:39.270Z"
   },
   {
    "duration": 56,
    "start_time": "2025-02-26T01:44:48.536Z"
   },
   {
    "duration": 76,
    "start_time": "2025-02-26T01:45:03.144Z"
   },
   {
    "duration": 76,
    "start_time": "2025-02-26T01:45:45.237Z"
   },
   {
    "duration": 85,
    "start_time": "2025-02-26T01:46:10.089Z"
   },
   {
    "duration": 55,
    "start_time": "2025-02-26T01:46:29.844Z"
   },
   {
    "duration": 52,
    "start_time": "2025-02-26T01:47:12.027Z"
   },
   {
    "duration": 53,
    "start_time": "2025-02-26T01:47:21.439Z"
   },
   {
    "duration": 891,
    "start_time": "2025-02-26T01:47:49.159Z"
   },
   {
    "duration": 685,
    "start_time": "2025-02-26T01:48:55.175Z"
   },
   {
    "duration": 50,
    "start_time": "2025-02-26T01:49:26.520Z"
   },
   {
    "duration": 49,
    "start_time": "2025-02-26T01:49:39.626Z"
   },
   {
    "duration": 885,
    "start_time": "2025-02-26T01:50:19.214Z"
   },
   {
    "duration": 823,
    "start_time": "2025-02-26T01:50:32.489Z"
   },
   {
    "duration": 702,
    "start_time": "2025-02-26T01:50:46.718Z"
   },
   {
    "duration": 862,
    "start_time": "2025-02-26T01:51:17.573Z"
   },
   {
    "duration": 726,
    "start_time": "2025-02-26T01:51:45.998Z"
   },
   {
    "duration": 872,
    "start_time": "2025-02-26T01:52:05.461Z"
   },
   {
    "duration": 660,
    "start_time": "2025-02-26T01:52:13.177Z"
   },
   {
    "duration": 644,
    "start_time": "2025-02-26T01:52:34.115Z"
   },
   {
    "duration": 794,
    "start_time": "2025-02-26T01:52:42.060Z"
   },
   {
    "duration": 1133,
    "start_time": "2025-02-26T01:53:33.047Z"
   },
   {
    "duration": 1221,
    "start_time": "2025-02-26T01:53:52.047Z"
   },
   {
    "duration": 1018,
    "start_time": "2025-02-26T01:54:02.056Z"
   },
   {
    "duration": 1177,
    "start_time": "2025-02-26T01:54:21.234Z"
   },
   {
    "duration": 1137,
    "start_time": "2025-02-26T01:54:49.580Z"
   },
   {
    "duration": 1200,
    "start_time": "2025-02-26T01:55:10.714Z"
   },
   {
    "duration": 1092,
    "start_time": "2025-02-26T02:01:09.913Z"
   },
   {
    "duration": 1255,
    "start_time": "2025-02-26T02:01:49.140Z"
   },
   {
    "duration": 1182,
    "start_time": "2025-02-26T02:02:38.902Z"
   },
   {
    "duration": 1157,
    "start_time": "2025-02-26T02:02:51.470Z"
   },
   {
    "duration": 953,
    "start_time": "2025-02-26T02:03:20.118Z"
   },
   {
    "duration": 1190,
    "start_time": "2025-02-26T02:03:28.834Z"
   },
   {
    "duration": 2882,
    "start_time": "2025-02-26T02:03:37.244Z"
   },
   {
    "duration": 1062,
    "start_time": "2025-02-26T02:03:54.726Z"
   },
   {
    "duration": 1215,
    "start_time": "2025-02-26T02:05:00.163Z"
   },
   {
    "duration": 1274,
    "start_time": "2025-02-26T02:05:30.299Z"
   },
   {
    "duration": 1099,
    "start_time": "2025-02-26T02:05:43.759Z"
   },
   {
    "duration": 1203,
    "start_time": "2025-02-26T02:05:52.512Z"
   },
   {
    "duration": 99,
    "start_time": "2025-02-26T02:10:12.196Z"
   },
   {
    "duration": 103,
    "start_time": "2025-02-26T02:11:08.994Z"
   },
   {
    "duration": 156,
    "start_time": "2025-02-26T02:15:02.146Z"
   },
   {
    "duration": 162,
    "start_time": "2025-02-26T02:15:08.665Z"
   },
   {
    "duration": 147,
    "start_time": "2025-02-26T02:15:27.992Z"
   },
   {
    "duration": 200,
    "start_time": "2025-02-26T02:16:05.920Z"
   },
   {
    "duration": 196,
    "start_time": "2025-02-26T02:16:58.480Z"
   },
   {
    "duration": 183,
    "start_time": "2025-02-26T02:17:18.633Z"
   },
   {
    "duration": 747,
    "start_time": "2025-02-26T02:17:25.715Z"
   },
   {
    "duration": 123,
    "start_time": "2025-02-26T02:17:26.465Z"
   },
   {
    "duration": 1007,
    "start_time": "2025-02-26T02:17:26.590Z"
   },
   {
    "duration": 54,
    "start_time": "2025-02-26T02:17:27.598Z"
   },
   {
    "duration": 25,
    "start_time": "2025-02-26T02:17:27.654Z"
   },
   {
    "duration": 47,
    "start_time": "2025-02-26T02:17:27.681Z"
   },
   {
    "duration": 1118,
    "start_time": "2025-02-26T02:17:27.730Z"
   },
   {
    "duration": 194,
    "start_time": "2025-02-26T02:17:28.850Z"
   },
   {
    "duration": 2,
    "start_time": "2025-02-26T02:17:29.046Z"
   },
   {
    "duration": 187,
    "start_time": "2025-02-26T02:17:44.700Z"
   },
   {
    "duration": 792,
    "start_time": "2025-02-26T02:17:54.594Z"
   },
   {
    "duration": 133,
    "start_time": "2025-02-26T02:17:55.392Z"
   },
   {
    "duration": 1005,
    "start_time": "2025-02-26T02:17:55.527Z"
   },
   {
    "duration": 42,
    "start_time": "2025-02-26T02:17:56.534Z"
   },
   {
    "duration": 25,
    "start_time": "2025-02-26T02:17:56.578Z"
   },
   {
    "duration": 31,
    "start_time": "2025-02-26T02:17:56.623Z"
   },
   {
    "duration": 1112,
    "start_time": "2025-02-26T02:17:56.655Z"
   },
   {
    "duration": 200,
    "start_time": "2025-02-26T02:17:57.770Z"
   },
   {
    "duration": 3,
    "start_time": "2025-02-26T02:17:57.972Z"
   },
   {
    "duration": 20,
    "start_time": "2025-02-26T02:24:15.559Z"
   },
   {
    "duration": 2538,
    "start_time": "2025-02-27T00:19:17.846Z"
   },
   {
    "duration": 154,
    "start_time": "2025-02-27T00:19:20.386Z"
   },
   {
    "duration": 1022,
    "start_time": "2025-02-27T00:19:20.542Z"
   },
   {
    "duration": 51,
    "start_time": "2025-02-27T00:19:21.566Z"
   },
   {
    "duration": 25,
    "start_time": "2025-02-27T00:19:21.619Z"
   },
   {
    "duration": 29,
    "start_time": "2025-02-27T00:19:21.646Z"
   },
   {
    "duration": 1164,
    "start_time": "2025-02-27T00:19:21.677Z"
   },
   {
    "duration": 204,
    "start_time": "2025-02-27T00:19:22.843Z"
   },
   {
    "duration": 21,
    "start_time": "2025-02-27T00:19:23.048Z"
   },
   {
    "duration": 18,
    "start_time": "2025-02-27T00:20:47.933Z"
   },
   {
    "duration": 49,
    "start_time": "2025-02-27T00:24:26.471Z"
   },
   {
    "duration": 268,
    "start_time": "2025-02-27T00:24:52.344Z"
   },
   {
    "duration": 5,
    "start_time": "2025-02-27T00:24:58.711Z"
   },
   {
    "duration": 49,
    "start_time": "2025-02-27T00:25:05.431Z"
   },
   {
    "duration": 51,
    "start_time": "2025-02-27T00:26:51.348Z"
   },
   {
    "duration": 18,
    "start_time": "2025-02-27T00:27:22.182Z"
   },
   {
    "duration": 19,
    "start_time": "2025-02-27T00:27:42.780Z"
   },
   {
    "duration": 21,
    "start_time": "2025-02-27T00:29:12.486Z"
   },
   {
    "duration": 65,
    "start_time": "2025-02-27T00:31:56.312Z"
   },
   {
    "duration": 574,
    "start_time": "2025-02-27T00:32:06.116Z"
   },
   {
    "duration": 69,
    "start_time": "2025-02-27T00:32:53.090Z"
   },
   {
    "duration": 82,
    "start_time": "2025-02-27T00:36:52.905Z"
   },
   {
    "duration": 81,
    "start_time": "2025-02-27T00:37:28.993Z"
   },
   {
    "duration": 83,
    "start_time": "2025-02-27T00:37:34.923Z"
   },
   {
    "duration": 19,
    "start_time": "2025-02-27T00:39:13.673Z"
   },
   {
    "duration": 82,
    "start_time": "2025-02-27T00:39:22.749Z"
   },
   {
    "duration": 86,
    "start_time": "2025-02-27T00:39:32.804Z"
   },
   {
    "duration": 82,
    "start_time": "2025-02-27T00:40:26.977Z"
   },
   {
    "duration": 91,
    "start_time": "2025-02-27T00:42:10.997Z"
   },
   {
    "duration": 88,
    "start_time": "2025-02-27T00:42:21.006Z"
   },
   {
    "duration": 87,
    "start_time": "2025-02-27T00:42:43.379Z"
   },
   {
    "duration": 88,
    "start_time": "2025-02-27T00:44:00.193Z"
   },
   {
    "duration": 762,
    "start_time": "2025-02-27T00:46:28.003Z"
   },
   {
    "duration": 8,
    "start_time": "2025-02-27T00:46:38.811Z"
   },
   {
    "duration": 29,
    "start_time": "2025-02-27T00:47:07.276Z"
   },
   {
    "duration": 20,
    "start_time": "2025-02-27T00:47:10.879Z"
   },
   {
    "duration": 21,
    "start_time": "2025-02-27T00:47:16.270Z"
   },
   {
    "duration": 21,
    "start_time": "2025-02-27T00:47:22.586Z"
   },
   {
    "duration": 80,
    "start_time": "2025-02-27T00:47:31.715Z"
   },
   {
    "duration": 42,
    "start_time": "2025-02-27T00:47:57.451Z"
   },
   {
    "duration": 43,
    "start_time": "2025-02-27T00:48:14.644Z"
   },
   {
    "duration": 762,
    "start_time": "2025-02-27T00:48:26.591Z"
   },
   {
    "duration": 124,
    "start_time": "2025-02-27T00:48:27.356Z"
   },
   {
    "duration": 1009,
    "start_time": "2025-02-27T00:48:27.481Z"
   },
   {
    "duration": 47,
    "start_time": "2025-02-27T00:48:28.492Z"
   },
   {
    "duration": 25,
    "start_time": "2025-02-27T00:48:28.541Z"
   },
   {
    "duration": 49,
    "start_time": "2025-02-27T00:48:28.568Z"
   },
   {
    "duration": 1177,
    "start_time": "2025-02-27T00:48:28.619Z"
   },
   {
    "duration": 184,
    "start_time": "2025-02-27T00:48:29.798Z"
   },
   {
    "duration": 55,
    "start_time": "2025-02-27T00:48:29.984Z"
   },
   {
    "duration": 22,
    "start_time": "2025-02-27T00:48:30.042Z"
   },
   {
    "duration": 110,
    "start_time": "2025-02-27T00:48:30.067Z"
   },
   {
    "duration": 3,
    "start_time": "2025-02-27T00:48:30.179Z"
   },
   {
    "duration": 3,
    "start_time": "2025-02-27T00:48:30.184Z"
   },
   {
    "duration": 4,
    "start_time": "2025-02-27T00:48:30.188Z"
   },
   {
    "duration": 780,
    "start_time": "2025-02-27T00:49:37.776Z"
   },
   {
    "duration": 753,
    "start_time": "2025-02-27T00:49:50.868Z"
   },
   {
    "duration": 127,
    "start_time": "2025-02-27T00:49:51.624Z"
   },
   {
    "duration": 1007,
    "start_time": "2025-02-27T00:49:51.753Z"
   },
   {
    "duration": 53,
    "start_time": "2025-02-27T00:49:52.763Z"
   },
   {
    "duration": 27,
    "start_time": "2025-02-27T00:49:52.817Z"
   },
   {
    "duration": 30,
    "start_time": "2025-02-27T00:49:52.847Z"
   },
   {
    "duration": 1129,
    "start_time": "2025-02-27T00:49:52.879Z"
   },
   {
    "duration": 203,
    "start_time": "2025-02-27T00:49:54.011Z"
   },
   {
    "duration": 52,
    "start_time": "2025-02-27T00:49:54.217Z"
   },
   {
    "duration": 21,
    "start_time": "2025-02-27T00:49:54.272Z"
   },
   {
    "duration": 83,
    "start_time": "2025-02-27T00:49:54.305Z"
   },
   {
    "duration": 3,
    "start_time": "2025-02-27T00:49:54.390Z"
   },
   {
    "duration": 3,
    "start_time": "2025-02-27T00:49:54.406Z"
   },
   {
    "duration": 2,
    "start_time": "2025-02-27T00:49:54.411Z"
   },
   {
    "duration": 8,
    "start_time": "2025-02-27T00:50:31.562Z"
   },
   {
    "duration": 209,
    "start_time": "2025-02-27T00:51:40.096Z"
   },
   {
    "duration": 436,
    "start_time": "2025-02-27T00:51:48.465Z"
   },
   {
    "duration": 7,
    "start_time": "2025-02-27T00:54:03.296Z"
   },
   {
    "duration": 64,
    "start_time": "2025-02-27T00:57:07.115Z"
   },
   {
    "duration": 121,
    "start_time": "2025-02-27T00:58:11.615Z"
   },
   {
    "duration": 114,
    "start_time": "2025-02-27T01:01:37.244Z"
   },
   {
    "duration": 93,
    "start_time": "2025-02-27T01:06:54.015Z"
   },
   {
    "duration": 91,
    "start_time": "2025-02-27T01:07:20.795Z"
   },
   {
    "duration": 90,
    "start_time": "2025-02-27T01:07:25.806Z"
   },
   {
    "duration": 95,
    "start_time": "2025-02-27T01:07:58.262Z"
   },
   {
    "duration": 97,
    "start_time": "2025-02-27T01:08:58.770Z"
   },
   {
    "duration": 121,
    "start_time": "2025-02-27T01:09:28.370Z"
   },
   {
    "duration": 85,
    "start_time": "2025-02-27T01:09:35.732Z"
   },
   {
    "duration": 92,
    "start_time": "2025-02-27T01:09:39.814Z"
   },
   {
    "duration": 102,
    "start_time": "2025-02-27T01:09:44.112Z"
   },
   {
    "duration": 207,
    "start_time": "2025-02-27T01:10:21.666Z"
   },
   {
    "duration": 92,
    "start_time": "2025-02-27T01:10:43.225Z"
   },
   {
    "duration": 135,
    "start_time": "2025-02-27T01:13:02.037Z"
   },
   {
    "duration": 9,
    "start_time": "2025-02-27T01:16:52.545Z"
   },
   {
    "duration": 267,
    "start_time": "2025-02-27T01:16:58.606Z"
   },
   {
    "duration": 119,
    "start_time": "2025-02-27T01:17:29.240Z"
   },
   {
    "duration": 118,
    "start_time": "2025-02-27T01:17:39.421Z"
   },
   {
    "duration": 87,
    "start_time": "2025-02-27T01:17:43.011Z"
   },
   {
    "duration": 117,
    "start_time": "2025-02-27T01:18:15.610Z"
   },
   {
    "duration": 91,
    "start_time": "2025-02-27T01:19:18.402Z"
   },
   {
    "duration": 232,
    "start_time": "2025-02-27T01:21:31.398Z"
   },
   {
    "duration": 89,
    "start_time": "2025-02-27T01:21:51.816Z"
   },
   {
    "duration": 95,
    "start_time": "2025-02-27T01:23:22.172Z"
   },
   {
    "duration": 91,
    "start_time": "2025-02-27T01:23:41.721Z"
   },
   {
    "duration": 91,
    "start_time": "2025-02-27T01:24:01.326Z"
   },
   {
    "duration": 3,
    "start_time": "2025-02-27T01:35:10.304Z"
   },
   {
    "duration": 4,
    "start_time": "2025-02-27T01:35:20.500Z"
   },
   {
    "duration": 3,
    "start_time": "2025-02-27T01:35:27.657Z"
   },
   {
    "duration": 49,
    "start_time": "2025-02-27T01:38:58.701Z"
   },
   {
    "duration": 17,
    "start_time": "2025-02-27T01:43:10.714Z"
   },
   {
    "duration": 241,
    "start_time": "2025-02-27T01:43:18.405Z"
   },
   {
    "duration": 32,
    "start_time": "2025-02-27T01:43:54.274Z"
   },
   {
    "duration": 35,
    "start_time": "2025-02-27T01:46:03.060Z"
   },
   {
    "duration": 46,
    "start_time": "2025-02-27T01:46:18.342Z"
   },
   {
    "duration": 45,
    "start_time": "2025-02-27T01:47:27.224Z"
   },
   {
    "duration": 38,
    "start_time": "2025-02-27T01:47:33.394Z"
   },
   {
    "duration": 34,
    "start_time": "2025-02-27T01:48:19.696Z"
   },
   {
    "duration": 35,
    "start_time": "2025-02-27T01:48:38.536Z"
   },
   {
    "duration": 38,
    "start_time": "2025-02-27T01:48:54.978Z"
   },
   {
    "duration": 66,
    "start_time": "2025-02-27T01:49:19.987Z"
   },
   {
    "duration": 62,
    "start_time": "2025-02-27T01:52:48.360Z"
   },
   {
    "duration": 66,
    "start_time": "2025-02-27T01:53:25.906Z"
   },
   {
    "duration": 82,
    "start_time": "2025-02-27T01:57:01.294Z"
   },
   {
    "duration": 62,
    "start_time": "2025-02-27T01:57:46.520Z"
   },
   {
    "duration": 73,
    "start_time": "2025-02-27T01:58:59.608Z"
   },
   {
    "duration": 78,
    "start_time": "2025-02-27T02:01:38.508Z"
   },
   {
    "duration": 73,
    "start_time": "2025-02-27T02:01:45.250Z"
   },
   {
    "duration": 75,
    "start_time": "2025-02-27T02:03:36.740Z"
   },
   {
    "duration": 70,
    "start_time": "2025-02-27T02:04:04.162Z"
   },
   {
    "duration": 77,
    "start_time": "2025-02-27T02:05:29.484Z"
   },
   {
    "duration": 77,
    "start_time": "2025-02-27T02:05:39.606Z"
   },
   {
    "duration": 11,
    "start_time": "2025-02-27T02:09:55.297Z"
   },
   {
    "duration": 79,
    "start_time": "2025-02-27T02:11:54.500Z"
   },
   {
    "duration": 82,
    "start_time": "2025-02-27T02:12:07.422Z"
   },
   {
    "duration": 81,
    "start_time": "2025-02-27T02:13:26.081Z"
   },
   {
    "duration": 76,
    "start_time": "2025-02-27T02:14:14.913Z"
   },
   {
    "duration": 51,
    "start_time": "2025-02-27T02:14:59.858Z"
   },
   {
    "duration": 45,
    "start_time": "2025-02-27T02:15:21.166Z"
   },
   {
    "duration": 76,
    "start_time": "2025-02-27T02:15:50.934Z"
   },
   {
    "duration": 17,
    "start_time": "2025-02-27T02:16:03.592Z"
   },
   {
    "duration": 15,
    "start_time": "2025-02-27T02:16:49.188Z"
   },
   {
    "duration": 13,
    "start_time": "2025-02-27T02:16:53.954Z"
   },
   {
    "duration": 81,
    "start_time": "2025-02-27T02:20:03.184Z"
   },
   {
    "duration": 87,
    "start_time": "2025-02-27T02:20:12.578Z"
   },
   {
    "duration": 163,
    "start_time": "2025-02-27T02:20:50.969Z"
   },
   {
    "duration": 83,
    "start_time": "2025-02-27T02:21:10.509Z"
   },
   {
    "duration": 4,
    "start_time": "2025-02-27T02:21:38.329Z"
   },
   {
    "duration": 82,
    "start_time": "2025-02-27T02:22:00.600Z"
   },
   {
    "duration": 20,
    "start_time": "2025-02-27T02:22:45.639Z"
   },
   {
    "duration": 19,
    "start_time": "2025-02-27T02:22:53.194Z"
   },
   {
    "duration": 83,
    "start_time": "2025-02-27T02:22:56.725Z"
   },
   {
    "duration": 83,
    "start_time": "2025-02-27T02:23:49.131Z"
   },
   {
    "duration": 85,
    "start_time": "2025-02-27T02:24:03.937Z"
   },
   {
    "duration": 77,
    "start_time": "2025-02-27T02:26:02.135Z"
   },
   {
    "duration": 62,
    "start_time": "2025-02-27T02:28:51.476Z"
   },
   {
    "duration": 75,
    "start_time": "2025-02-27T02:29:47.213Z"
   },
   {
    "duration": 79,
    "start_time": "2025-02-27T02:30:21.492Z"
   },
   {
    "duration": 75,
    "start_time": "2025-02-27T02:30:44.064Z"
   },
   {
    "duration": 78,
    "start_time": "2025-02-27T02:30:52.619Z"
   },
   {
    "duration": 75,
    "start_time": "2025-02-27T02:31:25.448Z"
   },
   {
    "duration": 74,
    "start_time": "2025-02-27T02:31:35.420Z"
   },
   {
    "duration": 79,
    "start_time": "2025-02-27T02:32:56.799Z"
   },
   {
    "duration": 87,
    "start_time": "2025-02-27T02:33:44.180Z"
   },
   {
    "duration": 87,
    "start_time": "2025-02-27T02:33:53.833Z"
   },
   {
    "duration": 93,
    "start_time": "2025-02-27T02:34:08.474Z"
   },
   {
    "duration": 82,
    "start_time": "2025-02-27T02:34:12.647Z"
   },
   {
    "duration": 106,
    "start_time": "2025-02-27T02:34:33.224Z"
   },
   {
    "duration": 81,
    "start_time": "2025-02-27T02:34:50.637Z"
   },
   {
    "duration": 81,
    "start_time": "2025-02-27T02:35:40.464Z"
   },
   {
    "duration": 80,
    "start_time": "2025-02-27T02:35:51.987Z"
   },
   {
    "duration": 188,
    "start_time": "2025-02-27T02:37:37.239Z"
   },
   {
    "duration": 93,
    "start_time": "2025-02-27T02:37:42.640Z"
   },
   {
    "duration": 89,
    "start_time": "2025-02-27T02:37:49.584Z"
   },
   {
    "duration": 78,
    "start_time": "2025-02-27T02:37:58.041Z"
   },
   {
    "duration": 2400,
    "start_time": "2025-02-27T23:18:18.104Z"
   },
   {
    "duration": 144,
    "start_time": "2025-02-27T23:18:20.506Z"
   },
   {
    "duration": 1013,
    "start_time": "2025-02-27T23:18:20.652Z"
   },
   {
    "duration": 42,
    "start_time": "2025-02-27T23:18:21.667Z"
   },
   {
    "duration": 33,
    "start_time": "2025-02-27T23:18:21.711Z"
   },
   {
    "duration": 31,
    "start_time": "2025-02-27T23:18:21.746Z"
   },
   {
    "duration": 1156,
    "start_time": "2025-02-27T23:18:21.779Z"
   },
   {
    "duration": 179,
    "start_time": "2025-02-27T23:18:22.937Z"
   },
   {
    "duration": 45,
    "start_time": "2025-02-27T23:18:23.123Z"
   },
   {
    "duration": 21,
    "start_time": "2025-02-27T23:18:23.171Z"
   },
   {
    "duration": 96,
    "start_time": "2025-02-27T23:18:23.193Z"
   },
   {
    "duration": 91,
    "start_time": "2025-02-27T23:18:23.291Z"
   },
   {
    "duration": 3,
    "start_time": "2025-02-27T23:18:23.384Z"
   },
   {
    "duration": 58,
    "start_time": "2025-02-27T23:18:23.389Z"
   },
   {
    "duration": 298,
    "start_time": "2025-02-27T23:18:23.449Z"
   },
   {
    "duration": 0,
    "start_time": "2025-02-27T23:18:23.748Z"
   },
   {
    "duration": 0,
    "start_time": "2025-02-27T23:18:23.750Z"
   },
   {
    "duration": 0,
    "start_time": "2025-02-27T23:18:23.751Z"
   },
   {
    "duration": 70,
    "start_time": "2025-02-27T23:18:54.871Z"
   },
   {
    "duration": 85,
    "start_time": "2025-02-27T23:19:57.479Z"
   },
   {
    "duration": 80,
    "start_time": "2025-02-27T23:22:49.011Z"
   },
   {
    "duration": 110,
    "start_time": "2025-02-27T23:28:08.079Z"
   },
   {
    "duration": 138,
    "start_time": "2025-02-27T23:28:20.322Z"
   },
   {
    "duration": 194,
    "start_time": "2025-02-27T23:29:19.068Z"
   },
   {
    "duration": 174,
    "start_time": "2025-02-27T23:33:11.053Z"
   },
   {
    "duration": 80,
    "start_time": "2025-02-27T23:35:08.893Z"
   },
   {
    "duration": 81,
    "start_time": "2025-02-27T23:35:22.544Z"
   },
   {
    "duration": 921,
    "start_time": "2025-02-27T23:40:44.349Z"
   },
   {
    "duration": 175,
    "start_time": "2025-02-27T23:41:19.213Z"
   },
   {
    "duration": 138,
    "start_time": "2025-02-27T23:42:35.157Z"
   },
   {
    "duration": 133,
    "start_time": "2025-02-27T23:44:35.153Z"
   },
   {
    "duration": 133,
    "start_time": "2025-02-27T23:44:42.619Z"
   },
   {
    "duration": 177,
    "start_time": "2025-02-27T23:46:01.928Z"
   },
   {
    "duration": 147,
    "start_time": "2025-02-27T23:47:17.725Z"
   },
   {
    "duration": 136,
    "start_time": "2025-02-27T23:47:36.221Z"
   },
   {
    "duration": 151,
    "start_time": "2025-02-27T23:47:56.297Z"
   },
   {
    "duration": 138,
    "start_time": "2025-02-27T23:48:30.899Z"
   },
   {
    "duration": 201,
    "start_time": "2025-02-27T23:48:44.962Z"
   },
   {
    "duration": 143,
    "start_time": "2025-02-27T23:49:26.805Z"
   },
   {
    "duration": 164,
    "start_time": "2025-02-27T23:49:35.434Z"
   },
   {
    "duration": 137,
    "start_time": "2025-02-27T23:49:53.599Z"
   },
   {
    "duration": 132,
    "start_time": "2025-02-27T23:50:02.699Z"
   },
   {
    "duration": 246,
    "start_time": "2025-02-27T23:50:33.253Z"
   },
   {
    "duration": 266,
    "start_time": "2025-02-27T23:51:08.300Z"
   },
   {
    "duration": 275,
    "start_time": "2025-02-27T23:51:26.164Z"
   },
   {
    "duration": 233,
    "start_time": "2025-02-27T23:51:48.650Z"
   },
   {
    "duration": 304,
    "start_time": "2025-02-27T23:52:05.209Z"
   },
   {
    "duration": 274,
    "start_time": "2025-02-27T23:52:12.973Z"
   },
   {
    "duration": 270,
    "start_time": "2025-02-27T23:52:27.568Z"
   },
   {
    "duration": 283,
    "start_time": "2025-02-27T23:52:41.524Z"
   },
   {
    "duration": 275,
    "start_time": "2025-02-27T23:52:59.397Z"
   },
   {
    "duration": 271,
    "start_time": "2025-02-27T23:53:16.534Z"
   },
   {
    "duration": 262,
    "start_time": "2025-02-27T23:54:07.077Z"
   },
   {
    "duration": 330,
    "start_time": "2025-02-27T23:54:22.154Z"
   },
   {
    "duration": 12,
    "start_time": "2025-02-27T23:56:02.101Z"
   },
   {
    "duration": 9,
    "start_time": "2025-02-27T23:56:19.547Z"
   },
   {
    "duration": 252,
    "start_time": "2025-02-27T23:56:26.358Z"
   },
   {
    "duration": 139,
    "start_time": "2025-02-27T23:56:59.177Z"
   },
   {
    "duration": 274,
    "start_time": "2025-02-27T23:57:47.783Z"
   },
   {
    "duration": 270,
    "start_time": "2025-02-27T23:58:05.240Z"
   },
   {
    "duration": 259,
    "start_time": "2025-02-27T23:58:26.922Z"
   },
   {
    "duration": 271,
    "start_time": "2025-02-27T23:58:37.164Z"
   },
   {
    "duration": 349,
    "start_time": "2025-02-27T23:58:41.594Z"
   },
   {
    "duration": 14,
    "start_time": "2025-02-28T00:07:17.333Z"
   },
   {
    "duration": 668,
    "start_time": "2025-02-28T00:07:25.274Z"
   },
   {
    "duration": 319,
    "start_time": "2025-02-28T00:08:21.105Z"
   },
   {
    "duration": 311,
    "start_time": "2025-02-28T00:09:13.295Z"
   },
   {
    "duration": 346,
    "start_time": "2025-02-28T00:10:24.020Z"
   },
   {
    "duration": 328,
    "start_time": "2025-02-28T00:10:37.936Z"
   },
   {
    "duration": 326,
    "start_time": "2025-02-28T00:10:57.307Z"
   },
   {
    "duration": 311,
    "start_time": "2025-02-28T00:11:34.913Z"
   },
   {
    "duration": 321,
    "start_time": "2025-02-28T00:11:47.912Z"
   },
   {
    "duration": 12,
    "start_time": "2025-02-28T00:13:42.089Z"
   },
   {
    "duration": 336,
    "start_time": "2025-02-28T00:14:20.675Z"
   },
   {
    "duration": 315,
    "start_time": "2025-02-28T00:14:33.232Z"
   },
   {
    "duration": 312,
    "start_time": "2025-02-28T00:16:49.199Z"
   },
   {
    "duration": 499,
    "start_time": "2025-02-28T00:17:50.556Z"
   },
   {
    "duration": 276,
    "start_time": "2025-02-28T00:22:24.157Z"
   },
   {
    "duration": 493,
    "start_time": "2025-02-28T00:23:05.555Z"
   },
   {
    "duration": 499,
    "start_time": "2025-02-28T00:24:07.149Z"
   },
   {
    "duration": 507,
    "start_time": "2025-02-28T00:24:28.781Z"
   },
   {
    "duration": 144,
    "start_time": "2025-02-28T00:29:16.244Z"
   },
   {
    "duration": 265,
    "start_time": "2025-02-28T00:30:26.372Z"
   },
   {
    "duration": 499,
    "start_time": "2025-02-28T00:30:42.262Z"
   },
   {
    "duration": 226,
    "start_time": "2025-02-28T00:34:55.927Z"
   },
   {
    "duration": 254,
    "start_time": "2025-02-28T00:35:02.210Z"
   },
   {
    "duration": 258,
    "start_time": "2025-02-28T00:37:19.979Z"
   },
   {
    "duration": 230,
    "start_time": "2025-02-28T00:37:23.770Z"
   },
   {
    "duration": 241,
    "start_time": "2025-02-28T00:37:56.957Z"
   },
   {
    "duration": 490,
    "start_time": "2025-02-28T00:45:23.215Z"
   },
   {
    "duration": 83,
    "start_time": "2025-02-28T00:50:56.583Z"
   },
   {
    "duration": 111,
    "start_time": "2025-02-28T00:51:22.063Z"
   },
   {
    "duration": 29,
    "start_time": "2025-02-28T00:51:28.355Z"
   },
   {
    "duration": 133,
    "start_time": "2025-02-28T00:51:32.994Z"
   },
   {
    "duration": 156,
    "start_time": "2025-02-28T00:52:17.513Z"
   },
   {
    "duration": 133,
    "start_time": "2025-02-28T00:52:28.901Z"
   },
   {
    "duration": 131,
    "start_time": "2025-02-28T00:52:41.738Z"
   },
   {
    "duration": 112,
    "start_time": "2025-02-28T00:53:07.496Z"
   },
   {
    "duration": 117,
    "start_time": "2025-02-28T00:53:14.007Z"
   },
   {
    "duration": 3,
    "start_time": "2025-02-28T00:57:08.427Z"
   },
   {
    "duration": 4,
    "start_time": "2025-02-28T00:57:33.302Z"
   },
   {
    "duration": 3,
    "start_time": "2025-02-28T00:57:44.509Z"
   },
   {
    "duration": 304,
    "start_time": "2025-02-28T01:01:27.743Z"
   },
   {
    "duration": 304,
    "start_time": "2025-02-28T01:02:32.619Z"
   },
   {
    "duration": 473,
    "start_time": "2025-02-28T01:04:43.372Z"
   },
   {
    "duration": 39,
    "start_time": "2025-02-28T01:14:58.885Z"
   },
   {
    "duration": 67,
    "start_time": "2025-02-28T01:15:18.808Z"
   },
   {
    "duration": 69,
    "start_time": "2025-02-28T01:16:17.053Z"
   },
   {
    "duration": 79,
    "start_time": "2025-02-28T01:18:13.881Z"
   },
   {
    "duration": 42,
    "start_time": "2025-02-28T01:29:21.170Z"
   },
   {
    "duration": 46,
    "start_time": "2025-02-28T01:29:44.921Z"
   },
   {
    "duration": 106,
    "start_time": "2025-02-28T01:31:54.644Z"
   },
   {
    "duration": 77,
    "start_time": "2025-02-28T01:34:05.730Z"
   },
   {
    "duration": 83,
    "start_time": "2025-02-28T01:34:21.336Z"
   },
   {
    "duration": 91,
    "start_time": "2025-02-28T01:34:45.490Z"
   },
   {
    "duration": 94,
    "start_time": "2025-02-28T01:34:57.486Z"
   },
   {
    "duration": 217,
    "start_time": "2025-02-28T01:37:36.165Z"
   },
   {
    "duration": 515,
    "start_time": "2025-02-28T01:38:04.614Z"
   },
   {
    "duration": 84,
    "start_time": "2025-02-28T01:38:50.355Z"
   },
   {
    "duration": 79,
    "start_time": "2025-02-28T01:39:32.347Z"
   },
   {
    "duration": 807,
    "start_time": "2025-02-28T01:40:47.857Z"
   },
   {
    "duration": 66,
    "start_time": "2025-02-28T01:41:55.535Z"
   },
   {
    "duration": 99,
    "start_time": "2025-02-28T01:42:35.871Z"
   },
   {
    "duration": 94,
    "start_time": "2025-02-28T01:42:54.217Z"
   },
   {
    "duration": 81,
    "start_time": "2025-02-28T01:43:51.003Z"
   },
   {
    "duration": 69,
    "start_time": "2025-02-28T01:44:05.425Z"
   },
   {
    "duration": 721,
    "start_time": "2025-02-28T01:44:18.889Z"
   },
   {
    "duration": 484,
    "start_time": "2025-02-28T01:45:01.506Z"
   },
   {
    "duration": 474,
    "start_time": "2025-02-28T01:45:38.089Z"
   },
   {
    "duration": 471,
    "start_time": "2025-02-28T01:45:52.031Z"
   },
   {
    "duration": 190,
    "start_time": "2025-02-28T01:47:16.029Z"
   },
   {
    "duration": 73,
    "start_time": "2025-02-28T01:47:52.286Z"
   },
   {
    "duration": 72,
    "start_time": "2025-02-28T01:50:08.443Z"
   },
   {
    "duration": 72,
    "start_time": "2025-02-28T01:50:19.140Z"
   },
   {
    "duration": 130,
    "start_time": "2025-02-28T01:50:52.469Z"
   },
   {
    "duration": 221,
    "start_time": "2025-02-28T01:51:22.655Z"
   },
   {
    "duration": 72,
    "start_time": "2025-02-28T01:51:42.090Z"
   },
   {
    "duration": 76,
    "start_time": "2025-02-28T01:51:50.535Z"
   },
   {
    "duration": 80,
    "start_time": "2025-02-28T01:52:18.199Z"
   },
   {
    "duration": 754,
    "start_time": "2025-02-28T01:52:26.118Z"
   },
   {
    "duration": 1105,
    "start_time": "2025-02-28T01:55:16.759Z"
   },
   {
    "duration": 296,
    "start_time": "2025-02-28T01:55:44.052Z"
   },
   {
    "duration": 477,
    "start_time": "2025-02-28T01:56:19.349Z"
   },
   {
    "duration": 768,
    "start_time": "2025-02-28T01:58:19.877Z"
   },
   {
    "duration": 38,
    "start_time": "2025-02-28T02:05:26.484Z"
   },
   {
    "duration": 106,
    "start_time": "2025-02-28T02:05:59.766Z"
   },
   {
    "duration": 788,
    "start_time": "2025-02-28T02:07:03.648Z"
   },
   {
    "duration": 41,
    "start_time": "2025-02-28T02:16:13.637Z"
   },
   {
    "duration": 742,
    "start_time": "2025-02-28T02:16:22.892Z"
   },
   {
    "duration": 15,
    "start_time": "2025-02-28T02:18:19.279Z"
   },
   {
    "duration": 736,
    "start_time": "2025-02-28T02:18:29.819Z"
   },
   {
    "duration": 122,
    "start_time": "2025-02-28T02:18:30.558Z"
   },
   {
    "duration": 1007,
    "start_time": "2025-02-28T02:18:30.682Z"
   },
   {
    "duration": 51,
    "start_time": "2025-02-28T02:18:31.691Z"
   },
   {
    "duration": 25,
    "start_time": "2025-02-28T02:18:31.744Z"
   },
   {
    "duration": 31,
    "start_time": "2025-02-28T02:18:31.771Z"
   },
   {
    "duration": 1104,
    "start_time": "2025-02-28T02:18:31.804Z"
   },
   {
    "duration": 179,
    "start_time": "2025-02-28T02:18:32.910Z"
   },
   {
    "duration": 63,
    "start_time": "2025-02-28T02:18:33.091Z"
   },
   {
    "duration": 22,
    "start_time": "2025-02-28T02:18:33.158Z"
   },
   {
    "duration": 90,
    "start_time": "2025-02-28T02:18:33.182Z"
   },
   {
    "duration": 96,
    "start_time": "2025-02-28T02:18:33.274Z"
   },
   {
    "duration": 4,
    "start_time": "2025-02-28T02:18:33.371Z"
   },
   {
    "duration": 57,
    "start_time": "2025-02-28T02:18:33.376Z"
   },
   {
    "duration": 67,
    "start_time": "2025-02-28T02:18:33.435Z"
   },
   {
    "duration": 501,
    "start_time": "2025-02-28T02:18:33.504Z"
   },
   {
    "duration": 780,
    "start_time": "2025-02-28T02:18:34.007Z"
   },
   {
    "duration": 321,
    "start_time": "2025-02-28T02:18:34.789Z"
   },
   {
    "duration": 776,
    "start_time": "2025-02-28T02:18:35.112Z"
   },
   {
    "duration": 4,
    "start_time": "2025-02-28T02:18:35.889Z"
   },
   {
    "duration": 5,
    "start_time": "2025-02-28T02:20:29.456Z"
   },
   {
    "duration": 4,
    "start_time": "2025-02-28T02:21:12.012Z"
   },
   {
    "duration": 4,
    "start_time": "2025-02-28T02:21:17.829Z"
   },
   {
    "duration": 3,
    "start_time": "2025-02-28T02:21:43.157Z"
   },
   {
    "duration": 751,
    "start_time": "2025-02-28T02:23:40.500Z"
   },
   {
    "duration": 121,
    "start_time": "2025-02-28T02:23:41.253Z"
   },
   {
    "duration": 984,
    "start_time": "2025-02-28T02:23:41.375Z"
   },
   {
    "duration": 42,
    "start_time": "2025-02-28T02:23:42.362Z"
   },
   {
    "duration": 37,
    "start_time": "2025-02-28T02:23:42.405Z"
   },
   {
    "duration": 30,
    "start_time": "2025-02-28T02:23:42.444Z"
   },
   {
    "duration": 1088,
    "start_time": "2025-02-28T02:23:42.476Z"
   },
   {
    "duration": 178,
    "start_time": "2025-02-28T02:23:43.566Z"
   },
   {
    "duration": 44,
    "start_time": "2025-02-28T02:23:43.746Z"
   },
   {
    "duration": 35,
    "start_time": "2025-02-28T02:23:43.792Z"
   },
   {
    "duration": 83,
    "start_time": "2025-02-28T02:23:43.829Z"
   },
   {
    "duration": 86,
    "start_time": "2025-02-28T02:23:43.924Z"
   },
   {
    "duration": 11,
    "start_time": "2025-02-28T02:23:44.013Z"
   },
   {
    "duration": 46,
    "start_time": "2025-02-28T02:23:44.025Z"
   },
   {
    "duration": 99,
    "start_time": "2025-02-28T02:23:44.072Z"
   },
   {
    "duration": 481,
    "start_time": "2025-02-28T02:23:44.173Z"
   },
   {
    "duration": 768,
    "start_time": "2025-02-28T02:23:44.656Z"
   },
   {
    "duration": 314,
    "start_time": "2025-02-28T02:23:45.425Z"
   },
   {
    "duration": 889,
    "start_time": "2025-02-28T02:23:45.741Z"
   },
   {
    "duration": 4,
    "start_time": "2025-02-28T02:23:46.631Z"
   },
   {
    "duration": 2386,
    "start_time": "2025-03-01T00:44:58.404Z"
   },
   {
    "duration": 153,
    "start_time": "2025-03-01T00:45:00.792Z"
   },
   {
    "duration": 997,
    "start_time": "2025-03-01T00:45:00.948Z"
   },
   {
    "duration": 42,
    "start_time": "2025-03-01T00:45:01.947Z"
   },
   {
    "duration": 26,
    "start_time": "2025-03-01T00:45:01.991Z"
   },
   {
    "duration": 47,
    "start_time": "2025-03-01T00:45:02.019Z"
   },
   {
    "duration": 1097,
    "start_time": "2025-03-01T00:45:02.068Z"
   },
   {
    "duration": 175,
    "start_time": "2025-03-01T00:45:03.167Z"
   },
   {
    "duration": 46,
    "start_time": "2025-03-01T00:45:03.344Z"
   },
   {
    "duration": 20,
    "start_time": "2025-03-01T00:45:03.393Z"
   },
   {
    "duration": 102,
    "start_time": "2025-03-01T00:45:03.415Z"
   },
   {
    "duration": 90,
    "start_time": "2025-03-01T00:45:03.519Z"
   },
   {
    "duration": 4,
    "start_time": "2025-03-01T00:45:03.610Z"
   },
   {
    "duration": 58,
    "start_time": "2025-03-01T00:45:03.616Z"
   },
   {
    "duration": 83,
    "start_time": "2025-03-01T00:45:03.675Z"
   },
   {
    "duration": 475,
    "start_time": "2025-03-01T00:45:03.760Z"
   },
   {
    "duration": 775,
    "start_time": "2025-03-01T00:45:04.236Z"
   },
   {
    "duration": 328,
    "start_time": "2025-03-01T00:45:05.014Z"
   },
   {
    "duration": 772,
    "start_time": "2025-03-01T00:45:05.344Z"
   },
   {
    "duration": 4,
    "start_time": "2025-03-01T00:45:06.118Z"
   },
   {
    "duration": 284,
    "start_time": "2025-03-01T00:54:11.524Z"
   },
   {
    "duration": 16,
    "start_time": "2025-03-01T00:54:16.321Z"
   }
  ],
  "kernelspec": {
   "display_name": "Python 3 (ipykernel)",
   "language": "python",
   "name": "python3"
  },
  "language_info": {
   "codemirror_mode": {
    "name": "ipython",
    "version": 3
   },
   "file_extension": ".py",
   "mimetype": "text/x-python",
   "name": "python",
   "nbconvert_exporter": "python",
   "pygments_lexer": "ipython3",
   "version": "3.9.19"
  },
  "toc": {
   "base_numbering": 1,
   "nav_menu": {},
   "number_sections": true,
   "sideBar": true,
   "skip_h1_title": true,
   "title_cell": "Table of Contents",
   "title_sidebar": "Contents",
   "toc_cell": false,
   "toc_position": {},
   "toc_section_display": true,
   "toc_window_display": false
  }
 },
 "nbformat": 4,
 "nbformat_minor": 2
}
